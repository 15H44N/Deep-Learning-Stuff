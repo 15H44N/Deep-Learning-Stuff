{
 "cells": [
  {
   "cell_type": "code",
   "execution_count": 1,
   "metadata": {},
   "outputs": [],
   "source": [
    "import os\n",
    "os.environ[\"TF_CPP_MIN_LOG_LEVEL\"] = \"2\"\n",
    "import tensorflow as tf\n",
    "from tensorflow import keras\n",
    "from tensorflow.keras import layers\n",
    "import tensorflow_datasets as tfds"
   ]
  },
  {
   "cell_type": "code",
   "execution_count": 2,
   "metadata": {},
   "outputs": [],
   "source": [
    "physical_devices = tf.config.list_physical_devices(\"GPU\")\n",
    "tf.config.experimental.set_memory_growth(physical_devices[0], True)"
   ]
  },
  {
   "cell_type": "markdown",
   "metadata": {},
   "source": [
    "### Accessing the CIFAR10 dataset"
   ]
  },
  {
   "cell_type": "code",
   "execution_count": 14,
   "metadata": {},
   "outputs": [],
   "source": [
    "(ds_train,ds_test), ds_info = tfds.load(\n",
    "    \"cifar10\",\n",
    "    split = ['train','test'],\n",
    "    shuffle_files= True,\n",
    "    as_supervised = True, #tuple of img,label\n",
    "    with_info = True\n",
    ")"
   ]
  },
  {
   "cell_type": "markdown",
   "metadata": {},
   "source": [
    "### Preprocessing & Model Creation"
   ]
  },
  {
   "cell_type": "code",
   "execution_count": 4,
   "metadata": {},
   "outputs": [],
   "source": [
    "def normalize_img(image,label):\n",
    "    #normalize images\n",
    "    return tf.cast(image, tf.float32)/255.0 , label\n",
    "\n",
    "AUTOTUNE = tf.data.experimental.AUTOTUNE #to autotune hyperparameters where it is called"
   ]
  },
  {
   "cell_type": "code",
   "execution_count": null,
   "metadata": {},
   "outputs": [],
   "source": [
    "#setup training dataset\n",
    "ds_train = ds_train.map(normalize_img, num_parallel_calls = AUTOTUNE) #applies function to call images, labels\n",
    "ds_train = ds_train.cache() \n",
    "ds_train = ds_train.shuffle(ds_info.splits['train'].num_examples)\n",
    "ds_train = ds_train.batch(64)\n",
    "ds_train = ds_train.prefetch(AUTOTUNE)"
   ]
  },
  {
   "cell_type": "code",
   "execution_count": null,
   "metadata": {},
   "outputs": [],
   "source": [
    "#setup testing dataset\n",
    "ds_test = ds_test.map(normalize_img, num_parallel_calls = AUTOTUNE)\n",
    "ds_test = ds_test.batch(128)\n",
    "ds_test = ds_test.prefetch(AUTOTUNE)"
   ]
  },
  {
   "cell_type": "code",
   "execution_count": 5,
   "metadata": {},
   "outputs": [],
   "source": [
    "model = keras.Sequential(\n",
    "    [\n",
    "        keras.Input((32,32,3)),\n",
    "        layers.Conv2D(4,3, padding = 'same', activation = 'relu'),\n",
    "        layers.Conv2D(8,3, padding = 'same', activation = 'relu'),\n",
    "        layers.MaxPooling2D(),\n",
    "        layers.Conv2D(16, 3, padding='same', activation = 'relu'),\n",
    "        layers.Flatten(),\n",
    "        layers.Dense(64, activation='relu'),\n",
    "        layers.Dense(10, activation = 'softmax')\n",
    "    ]\n",
    ")"
   ]
  },
  {
   "cell_type": "code",
   "execution_count": 6,
   "metadata": {},
   "outputs": [],
   "source": [
    "model.compile(\n",
    "    optimizer = keras.optimizers.Adam(3e-4),\n",
    "    loss = keras.losses.SparseCategoricalCrossentropy(from_logits=True),\n",
    "    metrics = ['accuracy']\n",
    ")"
   ]
  },
  {
   "cell_type": "raw",
   "metadata": {},
   "source": [
    "model.fit(ds_train, epochs=10, verbose=2)"
   ]
  },
  {
   "cell_type": "markdown",
   "metadata": {},
   "source": [
    "### Performing Data Augmentation\n",
    "There will be covered 2 methods:\n",
    "1. In case we are working with tfds or tf.data api (custom datasets)\n",
    "2. "
   ]
  },
  {
   "cell_type": "markdown",
   "metadata": {},
   "source": [
    "#### TFDS or Tf.Data"
   ]
  },
  {
   "cell_type": "code",
   "execution_count": 12,
   "metadata": {},
   "outputs": [],
   "source": [
    "def augment(image, label):\n",
    "    new_height = new_width = 32\n",
    "    \n",
    "    #resize\n",
    "    image = tf.image.resize(image, (new_height,new_width))\n",
    "    \n",
    "    if tf.random.uniform((),minval=0,maxval=1) < 0.1:\n",
    "        #10% probability will give this condition true, randomly\n",
    "        image = tf.tile(tf.image.rgb_to_grayscale(image),[1,1,3]) #tile is used to make 1 channel into 3\n",
    "    \n",
    "    image = tf.image.random_brightness(image, max_delta = 0.1) #as the name says\n",
    "    image = tf.image.random_contrast(image, lower=0.1, upper = 0.2)\n",
    "    \n",
    "    image = tf.image.random_flip_left_right(image) #50% times\n",
    "#     image = tf.image.random_flip_up_down(image) #50% times\n",
    "    \n",
    "    #and other such functions can be used. \n",
    "    \n",
    "    return image, label"
   ]
  },
  {
   "cell_type": "code",
   "execution_count": 15,
   "metadata": {},
   "outputs": [],
   "source": [
    "#setup training dataset\n",
    "ds_train = ds_train.map(normalize_img, num_parallel_calls = AUTOTUNE) #applies function to call images, labels\n",
    "ds_train = ds_train.cache() \n",
    "ds_train = ds_train.shuffle(ds_info.splits['train'].num_examples)\n",
    "ds_train = ds_train.map(augment, num_parallel_calls=AUTOTUNE) #applies augmentation function\n",
    "ds_train = ds_train.batch(64)\n",
    "ds_train = ds_train.prefetch(AUTOTUNE)\n",
    "\n",
    "#setup testing dataset\n",
    "ds_test = ds_test.map(normalize_img, num_parallel_calls = AUTOTUNE)\n",
    "ds_test = ds_test.batch(128)\n",
    "ds_test = ds_test.prefetch(AUTOTUNE)"
   ]
  },
  {
   "cell_type": "code",
   "execution_count": 16,
   "metadata": {},
   "outputs": [
    {
     "name": "stdout",
     "output_type": "stream",
     "text": [
      "Epoch 1/30\n",
      "782/782 - 2s - loss: 2.2302 - accuracy: 0.2083\n",
      "Epoch 2/30\n",
      "782/782 - 2s - loss: 2.1944 - accuracy: 0.2542\n",
      "Epoch 3/30\n",
      "782/782 - 2s - loss: 2.1721 - accuracy: 0.2779\n",
      "Epoch 4/30\n",
      "782/782 - 2s - loss: 2.1570 - accuracy: 0.2954\n",
      "Epoch 5/30\n",
      "782/782 - 2s - loss: 2.1448 - accuracy: 0.3092\n",
      "Epoch 6/30\n",
      "782/782 - 2s - loss: 2.1324 - accuracy: 0.3216\n",
      "Epoch 7/30\n",
      "782/782 - 2s - loss: 2.1235 - accuracy: 0.3312\n",
      "Epoch 8/30\n",
      "782/782 - 2s - loss: 2.1148 - accuracy: 0.3418\n",
      "Epoch 9/30\n",
      "782/782 - 2s - loss: 2.1053 - accuracy: 0.3515\n",
      "Epoch 10/30\n",
      "782/782 - 2s - loss: 2.0982 - accuracy: 0.3594\n",
      "Epoch 11/30\n",
      "782/782 - 2s - loss: 2.0923 - accuracy: 0.3647\n",
      "Epoch 12/30\n",
      "782/782 - 2s - loss: 2.0859 - accuracy: 0.3705\n",
      "Epoch 13/30\n",
      "782/782 - 2s - loss: 2.0813 - accuracy: 0.3766\n",
      "Epoch 14/30\n",
      "782/782 - 2s - loss: 2.0747 - accuracy: 0.3826\n",
      "Epoch 15/30\n",
      "782/782 - 2s - loss: 2.0690 - accuracy: 0.3872\n",
      "Epoch 16/30\n",
      "782/782 - 2s - loss: 2.0644 - accuracy: 0.3913\n",
      "Epoch 17/30\n",
      "782/782 - 2s - loss: 2.0602 - accuracy: 0.3958\n",
      "Epoch 18/30\n",
      "782/782 - 2s - loss: 2.0551 - accuracy: 0.4007\n",
      "Epoch 19/30\n",
      "782/782 - 2s - loss: 2.0462 - accuracy: 0.4120\n",
      "Epoch 20/30\n",
      "782/782 - 2s - loss: 2.0453 - accuracy: 0.4119\n",
      "Epoch 21/30\n",
      "782/782 - 2s - loss: 2.0417 - accuracy: 0.4141\n",
      "Epoch 22/30\n",
      "782/782 - 2s - loss: 2.0381 - accuracy: 0.4187\n",
      "Epoch 23/30\n",
      "782/782 - 2s - loss: 2.0342 - accuracy: 0.4215\n",
      "Epoch 24/30\n",
      "782/782 - 2s - loss: 2.0299 - accuracy: 0.4276\n",
      "Epoch 25/30\n",
      "782/782 - 2s - loss: 2.0269 - accuracy: 0.4303\n",
      "Epoch 26/30\n",
      "782/782 - 2s - loss: 2.0231 - accuracy: 0.4343\n",
      "Epoch 27/30\n",
      "782/782 - 2s - loss: 2.0219 - accuracy: 0.4361\n",
      "Epoch 28/30\n",
      "782/782 - 2s - loss: 2.0169 - accuracy: 0.4419\n",
      "Epoch 29/30\n",
      "782/782 - 2s - loss: 2.0139 - accuracy: 0.4444\n",
      "Epoch 30/30\n",
      "782/782 - 2s - loss: 2.0091 - accuracy: 0.4498\n"
     ]
    },
    {
     "data": {
      "text/plain": [
       "<tensorflow.python.keras.callbacks.History at 0x7f3d58721790>"
      ]
     },
     "execution_count": 16,
     "metadata": {},
     "output_type": "execute_result"
    }
   ],
   "source": [
    "model.fit(ds_train, epochs=30, verbose=2)"
   ]
  },
  {
   "cell_type": "markdown",
   "metadata": {},
   "source": [
    "#### Second Option\n",
    "Including Data Augmentation in the model itself so that it becomes easy"
   ]
  },
  {
   "cell_type": "code",
   "execution_count": 18,
   "metadata": {},
   "outputs": [],
   "source": [
    "data_augmentation = keras.Sequential(\n",
    "    [\n",
    "        layers.experimental.preprocessing.Resizing(height=32,width=32),\n",
    "        layers.experimental.preprocessing.RandomFlip(mode='horizontal'),\n",
    "        layers.experimental.preprocessing.RandomContrast(factor=0.1)\n",
    "    ]\n",
    ")"
   ]
  },
  {
   "cell_type": "code",
   "execution_count": 19,
   "metadata": {},
   "outputs": [],
   "source": [
    "model = keras.Sequential(\n",
    "    [\n",
    "        keras.Input((32,32,3)),\n",
    "        data_augmentation,\n",
    "        layers.Conv2D(4,3, padding = 'same', activation = 'relu'),\n",
    "        layers.Conv2D(8,3, padding = 'same', activation = 'relu'),\n",
    "        layers.MaxPooling2D(),\n",
    "        layers.Conv2D(16, 3, padding='same', activation = 'relu'),\n",
    "        layers.Flatten(),\n",
    "        layers.Dense(64, activation='relu'),\n",
    "        layers.Dense(10, activation = 'softmax')\n",
    "    ]\n",
    ")"
   ]
  },
  {
   "cell_type": "code",
   "execution_count": 20,
   "metadata": {},
   "outputs": [],
   "source": [
    "model.compile(\n",
    "    optimizer = keras.optimizers.Adam(3e-4),\n",
    "    loss = keras.losses.SparseCategoricalCrossentropy(from_logits=True),\n",
    "    metrics = ['accuracy']\n",
    ")"
   ]
  },
  {
   "cell_type": "code",
   "execution_count": 21,
   "metadata": {},
   "outputs": [
    {
     "name": "stdout",
     "output_type": "stream",
     "text": [
      "Epoch 1/10\n",
      "782/782 - 3s - loss: 2.2494 - accuracy: 0.1833\n",
      "Epoch 2/10\n",
      "782/782 - 2s - loss: 2.2177 - accuracy: 0.2263\n",
      "Epoch 3/10\n",
      "782/782 - 2s - loss: 2.1922 - accuracy: 0.2579\n",
      "Epoch 4/10\n",
      "782/782 - 2s - loss: 2.1716 - accuracy: 0.2795\n",
      "Epoch 5/10\n",
      "782/782 - 2s - loss: 2.1600 - accuracy: 0.2925\n",
      "Epoch 6/10\n",
      "782/782 - 2s - loss: 2.1490 - accuracy: 0.3049\n",
      "Epoch 7/10\n",
      "782/782 - 2s - loss: 2.1376 - accuracy: 0.3159\n",
      "Epoch 8/10\n",
      "782/782 - 2s - loss: 2.1290 - accuracy: 0.3271\n",
      "Epoch 9/10\n",
      "782/782 - 2s - loss: 2.1239 - accuracy: 0.3313\n",
      "Epoch 10/10\n",
      "782/782 - 2s - loss: 2.1161 - accuracy: 0.3401\n"
     ]
    },
    {
     "data": {
      "text/plain": [
       "<tensorflow.python.keras.callbacks.History at 0x7f3d0c506910>"
      ]
     },
     "execution_count": 21,
     "metadata": {},
     "output_type": "execute_result"
    }
   ],
   "source": [
    "model.fit(ds_train, epochs=10, verbose=2)"
   ]
  },
  {
   "cell_type": "code",
   "execution_count": null,
   "metadata": {},
   "outputs": [],
   "source": []
  }
 ],
 "metadata": {
  "kernelspec": {
   "display_name": "Python [conda env:tf-gpu]",
   "language": "python",
   "name": "conda-env-tf-gpu-py"
  },
  "language_info": {
   "codemirror_mode": {
    "name": "ipython",
    "version": 3
   },
   "file_extension": ".py",
   "mimetype": "text/x-python",
   "name": "python",
   "nbconvert_exporter": "python",
   "pygments_lexer": "ipython3",
   "version": "3.8.5"
  }
 },
 "nbformat": 4,
 "nbformat_minor": 4
}
