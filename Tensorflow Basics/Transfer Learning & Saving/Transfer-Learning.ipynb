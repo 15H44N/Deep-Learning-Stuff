{
 "cells": [
  {
   "cell_type": "code",
   "execution_count": 2,
   "metadata": {},
   "outputs": [],
   "source": [
    "import os\n",
    "os.environ[\"TF_CPP_MIN_LOG_LEVEL\"] = \"2\"\n",
    "import tensorflow as tf\n",
    "from tensorflow import keras\n",
    "from tensorflow.keras import layers\n",
    "from tensorflow.keras.datasets import mnist\n",
    "import tensorflow_hub as hub"
   ]
  },
  {
   "cell_type": "code",
   "execution_count": 3,
   "metadata": {},
   "outputs": [],
   "source": [
    "# To Avoid GPU errors\n",
    "physical_devices = tf.config.list_physical_devices(\"GPU\")\n",
    "tf.config.experimental.set_memory_growth(physical_devices[0], True)"
   ]
  },
  {
   "cell_type": "markdown",
   "metadata": {},
   "source": [
    "### Introduction\n",
    "There can be 3 types of loading of pretrained models:\n",
    "1. Pretrained Model from own\n",
    "2. Pretrained Keras Model\n",
    "3. Prerained Tensorflow Hub Model"
   ]
  },
  {
   "cell_type": "markdown",
   "metadata": {
    "collapsed": "true"
   },
   "source": [
    "#### Pretrained Model from own"
   ]
  },
  {
   "cell_type": "code",
   "execution_count": 8,
   "metadata": {},
   "outputs": [],
   "source": [
    "(x_train, y_train), (x_test, y_test) = mnist.load_data()\n",
    "x_train = x_train.reshape(-1, 28, 28, 1).astype(\"float32\") / 255.0\n",
    "x_test = x_test.reshape(-1, 28, 28, 1).astype(\"float32\") / 255.0\n",
    "\n",
    "# this is the model from the SERIALIZATION part of the Save-Load-Models notebook\n",
    "model = keras.models.load_model(\"complete_saved_models\")"
   ]
  },
  {
   "cell_type": "code",
   "execution_count": 9,
   "metadata": {},
   "outputs": [
    {
     "name": "stdout",
     "output_type": "stream",
     "text": [
      "Model: \"sequential\"\n",
      "_________________________________________________________________\n",
      "Layer (type)                 Output Shape              Param #   \n",
      "=================================================================\n",
      "dense (Dense)                multiple                  50240     \n",
      "_________________________________________________________________\n",
      "dense_1 (Dense)              multiple                  650       \n",
      "=================================================================\n",
      "Total params: 50,890\n",
      "Trainable params: 50,890\n",
      "Non-trainable params: 0\n",
      "_________________________________________________________________\n"
     ]
    }
   ],
   "source": [
    "model.summary()"
   ]
  },
  {
   "cell_type": "code",
   "execution_count": null,
   "metadata": {},
   "outputs": [],
   "source": []
  },
  {
   "cell_type": "code",
   "execution_count": null,
   "metadata": {},
   "outputs": [],
   "source": []
  },
  {
   "cell_type": "markdown",
   "metadata": {},
   "source": [
    "#### Pretrained Keras Model"
   ]
  },
  {
   "cell_type": "code",
   "execution_count": 14,
   "metadata": {},
   "outputs": [],
   "source": [
    "x = tf.random.normal(shape=(5,299,299,3))\n",
    "y = tf.constant([0,1,2,3,4])\n",
    "\n",
    "model = keras.applications.InceptionV3(include_top=True)\n",
    "# model.summary()"
   ]
  },
  {
   "cell_type": "code",
   "execution_count": 16,
   "metadata": {},
   "outputs": [],
   "source": [
    "base_input = model.layers[0].input\n",
    "base_outputs = model.layers[-2].output\n",
    "final_outputs = layers.Dense(5)(base_outputs)\n",
    "\n",
    "new_model = keras.Model(inputs=base_input, outputs = final_outputs)"
   ]
  },
  {
   "cell_type": "code",
   "execution_count": 17,
   "metadata": {},
   "outputs": [],
   "source": [
    "new_model.compile(\n",
    "    optimizer = keras.optimizers.Adam(),\n",
    "    loss = keras.losses.SparseCategoricalCrossentropy(from_logits=True),\n",
    "    metrics = ['accuracy']\n",
    ")"
   ]
  },
  {
   "cell_type": "code",
   "execution_count": 18,
   "metadata": {},
   "outputs": [
    {
     "name": "stdout",
     "output_type": "stream",
     "text": [
      "Epoch 1/20\n",
      "1/1 - 0s - loss: 1.6733 - accuracy: 0.2000\n",
      "Epoch 2/20\n",
      "1/1 - 0s - loss: 0.2841 - accuracy: 1.0000\n",
      "Epoch 3/20\n",
      "1/1 - 0s - loss: 6.9647e-04 - accuracy: 1.0000\n",
      "Epoch 4/20\n",
      "1/1 - 0s - loss: 1.8180e-04 - accuracy: 1.0000\n",
      "Epoch 5/20\n",
      "1/1 - 0s - loss: 9.0807e-05 - accuracy: 1.0000\n",
      "Epoch 6/20\n",
      "1/1 - 0s - loss: 7.1234e-05 - accuracy: 1.0000\n",
      "Epoch 7/20\n",
      "1/1 - 0s - loss: 7.3426e-05 - accuracy: 1.0000\n",
      "Epoch 8/20\n",
      "1/1 - 0s - loss: 8.4746e-05 - accuracy: 1.0000\n",
      "Epoch 9/20\n",
      "1/1 - 0s - loss: 1.0033e-04 - accuracy: 1.0000\n",
      "Epoch 10/20\n",
      "1/1 - 0s - loss: 1.1997e-04 - accuracy: 1.0000\n",
      "Epoch 11/20\n",
      "1/1 - 0s - loss: 1.3865e-04 - accuracy: 1.0000\n",
      "Epoch 12/20\n",
      "1/1 - 0s - loss: 1.4642e-04 - accuracy: 1.0000\n",
      "Epoch 13/20\n",
      "1/1 - 0s - loss: 1.2996e-04 - accuracy: 1.0000\n",
      "Epoch 14/20\n",
      "1/1 - 0s - loss: 1.0246e-04 - accuracy: 1.0000\n",
      "Epoch 15/20\n",
      "1/1 - 0s - loss: 7.5285e-05 - accuracy: 1.0000\n",
      "Epoch 16/20\n",
      "1/1 - 0s - loss: 5.4332e-05 - accuracy: 1.0000\n",
      "Epoch 17/20\n",
      "1/1 - 0s - loss: 3.9290e-05 - accuracy: 1.0000\n",
      "Epoch 18/20\n",
      "1/1 - 0s - loss: 2.9158e-05 - accuracy: 1.0000\n",
      "Epoch 19/20\n",
      "1/1 - 0s - loss: 2.2363e-05 - accuracy: 1.0000\n",
      "Epoch 20/20\n",
      "1/1 - 0s - loss: 1.7643e-05 - accuracy: 1.0000\n"
     ]
    },
    {
     "data": {
      "text/plain": [
       "<tensorflow.python.keras.callbacks.History at 0x7ff4f025e1f0>"
      ]
     },
     "execution_count": 18,
     "metadata": {},
     "output_type": "execute_result"
    }
   ],
   "source": [
    "new_model.fit(x,y,epochs=20,verbose=2)"
   ]
  },
  {
   "cell_type": "markdown",
   "metadata": {},
   "source": [
    "#### Tensorflow Hub Models"
   ]
  },
  {
   "cell_type": "code",
   "execution_count": 25,
   "metadata": {},
   "outputs": [],
   "source": [
    "x = tf.random.normal(shape=(5,299,299,3))\n",
    "y = tf.constant([0,1,2,3,4])\n",
    "\n",
    "url = \"https://tfhub.dev/google/imagenet/inception_v3/feature_vector/4\"\n",
    "base_model = hub.KerasLayer(url, input_shape=(299,299,3))\n",
    "\n",
    "model = keras.Sequential([\n",
    "    base_model,\n",
    "    layers.Dense(128,activation='relu'),\n",
    "    layers.Dense(64,activation='relu'),\n",
    "    layers.Dense(5,activation='softmax')\n",
    "])"
   ]
  },
  {
   "cell_type": "code",
   "execution_count": 26,
   "metadata": {},
   "outputs": [
    {
     "name": "stdout",
     "output_type": "stream",
     "text": [
      "Epoch 1/20\n",
      "1/1 - 0s - loss: 1.6116 - accuracy: 0.2000\n",
      "Epoch 2/20\n",
      "1/1 - 0s - loss: 1.5823 - accuracy: 0.4000\n",
      "Epoch 3/20\n",
      "1/1 - 0s - loss: 1.5596 - accuracy: 0.4000\n",
      "Epoch 4/20\n",
      "1/1 - 0s - loss: 1.5323 - accuracy: 0.6000\n",
      "Epoch 5/20\n",
      "1/1 - 0s - loss: 1.5048 - accuracy: 0.8000\n",
      "Epoch 6/20\n",
      "1/1 - 0s - loss: 1.4620 - accuracy: 1.0000\n",
      "Epoch 7/20\n",
      "1/1 - 0s - loss: 1.4275 - accuracy: 0.8000\n",
      "Epoch 8/20\n",
      "1/1 - 0s - loss: 1.3962 - accuracy: 0.8000\n",
      "Epoch 9/20\n",
      "1/1 - 0s - loss: 1.3550 - accuracy: 0.8000\n",
      "Epoch 10/20\n",
      "1/1 - 0s - loss: 1.3149 - accuracy: 0.8000\n",
      "Epoch 11/20\n",
      "1/1 - 0s - loss: 1.2772 - accuracy: 0.8000\n",
      "Epoch 12/20\n",
      "1/1 - 0s - loss: 1.2417 - accuracy: 0.8000\n",
      "Epoch 13/20\n",
      "1/1 - 0s - loss: 1.2056 - accuracy: 1.0000\n",
      "Epoch 14/20\n",
      "1/1 - 0s - loss: 1.1697 - accuracy: 1.0000\n",
      "Epoch 15/20\n",
      "1/1 - 0s - loss: 1.1341 - accuracy: 1.0000\n",
      "Epoch 16/20\n",
      "1/1 - 0s - loss: 1.1029 - accuracy: 1.0000\n",
      "Epoch 17/20\n",
      "1/1 - 0s - loss: 1.0758 - accuracy: 1.0000\n",
      "Epoch 18/20\n",
      "1/1 - 0s - loss: 1.0503 - accuracy: 1.0000\n",
      "Epoch 19/20\n",
      "1/1 - 0s - loss: 1.0264 - accuracy: 1.0000\n",
      "Epoch 20/20\n",
      "1/1 - 0s - loss: 1.0049 - accuracy: 1.0000\n"
     ]
    },
    {
     "data": {
      "text/plain": [
       "<tensorflow.python.keras.callbacks.History at 0x7ff40898adc0>"
      ]
     },
     "execution_count": 26,
     "metadata": {},
     "output_type": "execute_result"
    }
   ],
   "source": [
    "model.compile(\n",
    "    optimizer = keras.optimizers.Adam(),\n",
    "    loss = keras.losses.SparseCategoricalCrossentropy(from_logits=True),\n",
    "    metrics = ['accuracy']\n",
    ")\n",
    "model.fit(x,y,epochs=20,verbose=2)"
   ]
  },
  {
   "cell_type": "code",
   "execution_count": null,
   "metadata": {},
   "outputs": [],
   "source": []
  }
 ],
 "metadata": {
  "kernelspec": {
   "display_name": "Python [conda env:tf-gpu]",
   "language": "python",
   "name": "conda-env-tf-gpu-py"
  },
  "language_info": {
   "codemirror_mode": {
    "name": "ipython",
    "version": 3
   },
   "file_extension": ".py",
   "mimetype": "text/x-python",
   "name": "python",
   "nbconvert_exporter": "python",
   "pygments_lexer": "ipython3",
   "version": "3.8.5"
  }
 },
 "nbformat": 4,
 "nbformat_minor": 4
}
