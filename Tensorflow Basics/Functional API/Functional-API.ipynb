{
 "cells": [
  {
   "cell_type": "code",
   "execution_count": 1,
   "metadata": {},
   "outputs": [],
   "source": [
    "import os\n",
    "os.environ[\"TF_CPP_MIN_LOG_LEVEL\"] = \"2\" #no annoyiing messages\n",
    "import tensorflow as tf\n",
    "from tensorflow import keras\n",
    "from tensorflow.keras import layers, regularizers\n",
    "from tensorflow.keras.datasets import mnist\n",
    "import pandas as pd"
   ]
  },
  {
   "cell_type": "code",
   "execution_count": 2,
   "metadata": {},
   "outputs": [],
   "source": [
    "# HYPERPARAMETERS\n",
    "BATCH_SIZE = 64\n",
    "WEIGHT_DECAY = 0.001\n",
    "LEARNING_RATE = 0.001"
   ]
  },
  {
   "cell_type": "code",
   "execution_count": 3,
   "metadata": {},
   "outputs": [],
   "source": [
    "# Make sure we don't get any GPU errors\n",
    "physical_devices = tf.config.list_physical_devices('GPU')\n",
    "tf.config.experimental.set_memory_growth(physical_devices[0], True)"
   ]
  },
  {
   "cell_type": "code",
   "execution_count": 4,
   "metadata": {},
   "outputs": [
    {
     "data": {
      "text/plain": [
       "[PhysicalDevice(name='/physical_device:GPU:0', device_type='GPU')]"
      ]
     },
     "execution_count": 4,
     "metadata": {},
     "output_type": "execute_result"
    }
   ],
   "source": [
    "physical_devices"
   ]
  },
  {
   "cell_type": "markdown",
   "metadata": {
    "collapsed": "true"
   },
   "source": [
    "### Using Pandas and tf.data to make custom dataset"
   ]
  },
  {
   "cell_type": "code",
   "execution_count": 21,
   "metadata": {},
   "outputs": [],
   "source": [
    "train_df = pd.read_csv(\"archive/train.csv\")\n",
    "test_df = pd.read_csv(\"archive/test.csv\")\n",
    "train_images = os.getcwd() + \"/archive/train_images/\" + train_df.iloc[:, 0].values\n",
    "test_images = os.getcwd() + \"/archive/test_images/\" + test_df.iloc[:, 0].values\n",
    "\n",
    "train_labels = train_df.iloc[:, 1:].values\n",
    "test_labels = test_df.iloc[:, 1:].values"
   ]
  },
  {
   "cell_type": "code",
   "execution_count": 6,
   "metadata": {},
   "outputs": [],
   "source": [
    "def read_image(image_path, label):\n",
    "    image = tf.io.read_file(image_path)\n",
    "    image = tf.image.decode_image(image, channels=1, dtype=tf.float32)\n",
    "\n",
    "    # In older versions you need to set shape in order to avoid error\n",
    "    # on newer (2.3.0+) the following 3 lines can safely be removed\n",
    "    image.set_shape((64, 64, 1))\n",
    "    label[0].set_shape([])\n",
    "    label[1].set_shape([])\n",
    "\n",
    "    labels = {\"first_num\": label[0], \"second_num\": label[1]}\n",
    "    return image, labels"
   ]
  },
  {
   "cell_type": "code",
   "execution_count": 23,
   "metadata": {},
   "outputs": [],
   "source": [
    "AUTOTUNE = tf.data.experimental.AUTOTUNE\n",
    "\n",
    "train_dataset = tf.data.Dataset.from_tensor_slices((train_images, train_labels))\n",
    "train_dataset = (\n",
    "    train_dataset.shuffle(buffer_size=len(train_labels))\n",
    "    .map(read_image)\n",
    "    .batch(batch_size=BATCH_SIZE)\n",
    "    .prefetch(buffer_size=AUTOTUNE)\n",
    ")\n",
    "\n",
    "test_dataset = tf.data.Dataset.from_tensor_slices((test_images, test_labels))\n",
    "test_dataset = (\n",
    "    test_dataset.map(read_image)\n",
    "    .batch(batch_size=BATCH_SIZE)\n",
    "    .prefetch(buffer_size=AUTOTUNE)\n",
    ")"
   ]
  },
  {
   "cell_type": "markdown",
   "metadata": {},
   "source": [
    "### Using Functional API"
   ]
  },
  {
   "cell_type": "code",
   "execution_count": 26,
   "metadata": {},
   "outputs": [],
   "source": [
    "inputs = keras.Input(shape=(64,64,1))\n",
    "x = layers.Conv2D( filters = 32, kernel_size = 3, \n",
    "                  padding = 'same', kernel_regularizer = regularizers.l2(WEIGHT_DECAY))(inputs)\n",
    "x = layers.BatchNormalization()(x)\n",
    "x = keras.activations.relu(x)\n",
    "\n",
    "x = layers.Conv2D(64,3,kernel_regularizer = regularizers.l2(WEIGHT_DECAY))(x)\n",
    "x = layers.BatchNormalization()(x)\n",
    "x = keras.activations.relu(x)\n",
    "x = layers.MaxPooling2D()(x)\n",
    "\n",
    "x = layers.Conv2D(64,3,activation = 'relu', kernel_regularizer=regularizers.l2(WEIGHT_DECAY))(x)\n",
    "x = layers.Conv2D(128,3, activation = 'relu')(x)\n",
    "x = layers.MaxPooling2D()(x)\n",
    "x = layers.Flatten()(x)\n",
    "\n",
    "x = layers.Dense(128,activation='relu')(x)\n",
    "x = layers.Dropout(0.5)(x)\n",
    "x = layers.Dense(64,activation = 'relu')(x)\n",
    "\n",
    "output1 = layers.Dense(10, activation='softmax',name='first_num')(x)\n",
    "output2 = layers.Dense(10, activation='softmax', name='second_num')(x)"
   ]
  },
  {
   "cell_type": "code",
   "execution_count": 30,
   "metadata": {},
   "outputs": [],
   "source": [
    "model = keras.Model(inputs = inputs, outputs = [output1,output2])\n",
    "\n",
    "model.compile(\n",
    "    optimizer = keras.optimizers.Adam(LEARNING_RATE),\n",
    "    loss = keras.losses.SparseCategoricalCrossentropy(),\n",
    "    metrics = ['accuracy']\n",
    ")"
   ]
  },
  {
   "cell_type": "code",
   "execution_count": 31,
   "metadata": {},
   "outputs": [
    {
     "name": "stdout",
     "output_type": "stream",
     "text": [
      "Epoch 1/5\n",
      "1000/1000 - 26s - loss: 0.2264 - first_num_loss: 0.0903 - second_num_loss: 0.0866 - first_num_accuracy: 0.9721 - second_num_accuracy: 0.9722\n",
      "Epoch 2/5\n",
      "1000/1000 - 26s - loss: 0.1959 - first_num_loss: 0.0753 - second_num_loss: 0.0748 - first_num_accuracy: 0.9762 - second_num_accuracy: 0.9761\n",
      "Epoch 3/5\n",
      "1000/1000 - 27s - loss: 0.1698 - first_num_loss: 0.0647 - second_num_loss: 0.0630 - first_num_accuracy: 0.9792 - second_num_accuracy: 0.9798\n",
      "Epoch 4/5\n",
      "1000/1000 - 28s - loss: 0.1571 - first_num_loss: 0.0597 - second_num_loss: 0.0561 - first_num_accuracy: 0.9805 - second_num_accuracy: 0.9823\n",
      "Epoch 5/5\n",
      "1000/1000 - 28s - loss: 0.1419 - first_num_loss: 0.0523 - second_num_loss: 0.0502 - first_num_accuracy: 0.9830 - second_num_accuracy: 0.9842\n",
      "313/313 - 3s - loss: 1.2490 - first_num_loss: 0.3867 - second_num_loss: 0.8244 - first_num_accuracy: 0.8991 - second_num_accuracy: 0.8011\n"
     ]
    },
    {
     "data": {
      "text/plain": [
       "[1.2489726543426514,\n",
       " 0.38674262166023254,\n",
       " 0.8244060277938843,\n",
       " 0.8991000056266785,\n",
       " 0.8010500073432922]"
      ]
     },
     "execution_count": 31,
     "metadata": {},
     "output_type": "execute_result"
    }
   ],
   "source": [
    "model.fit(train_dataset,epochs=5,verbose=2)\n",
    "model.evaluate(test_dataset,verbose=2)"
   ]
  }
 ],
 "metadata": {
  "kernelspec": {
   "display_name": "Python [conda env:tf-gpu]",
   "language": "python",
   "name": "conda-env-tf-gpu-py"
  },
  "language_info": {
   "codemirror_mode": {
    "name": "ipython",
    "version": 3
   },
   "file_extension": ".py",
   "mimetype": "text/x-python",
   "name": "python",
   "nbconvert_exporter": "python",
   "pygments_lexer": "ipython3",
   "version": "3.8.5"
  }
 },
 "nbformat": 4,
 "nbformat_minor": 4
}
