{
 "cells": [
  {
   "cell_type": "code",
   "execution_count": 1,
   "metadata": {},
   "outputs": [],
   "source": [
    "import os\n",
    "os.environ[\"TF_CPP_MIN_LOG_LEVEL\"] = \"2\" #no annoyiing messages\n",
    "import tensorflow as tf\n",
    "from tensorflow import keras\n",
    "from tensorflow.keras import layers, regularizers\n",
    "from tensorflow.keras.datasets import mnist"
   ]
  },
  {
   "cell_type": "code",
   "execution_count": 2,
   "metadata": {},
   "outputs": [],
   "source": [
    "# Make sure we don't get any GPU errors\n",
    "physical_devices = tf.config.list_physical_devices('GPU')\n",
    "tf.config.experimental.set_memory_growth(physical_devices[0], True)"
   ]
  },
  {
   "cell_type": "markdown",
   "metadata": {},
   "source": [
    "### Importing Data from MNIST available on tf keras datasets"
   ]
  },
  {
   "cell_type": "code",
   "execution_count": 3,
   "metadata": {},
   "outputs": [
    {
     "name": "stdout",
     "output_type": "stream",
     "text": [
      "Downloading data from https://storage.googleapis.com/tensorflow/tf-keras-datasets/mnist.npz\n",
      "11493376/11490434 [==============================] - 3s 0us/step\n"
     ]
    }
   ],
   "source": [
    "(x_train, y_train),(x_test,y_test) = mnist.load_data()\n",
    "x_train = x_train.reshape(-1,28,28,1).astype('float32')/255.0\n",
    "x_test = x_test.reshape(-1,28,28,1).astype('float32')/255.0"
   ]
  },
  {
   "cell_type": "code",
   "execution_count": null,
   "metadata": {},
   "outputs": [],
   "source": []
  },
  {
   "cell_type": "markdown",
   "metadata": {},
   "source": [
    "### What we are trying to do\n",
    "Our common thing when doing CNN is that we have:\n",
    "1. Conv Layer\n",
    "2. Batchnorm Layer\n",
    "3. ReLU layer\n",
    "\n",
    "So we create a class to make sure this becomes modular.\n",
    "Like Pytorch."
   ]
  },
  {
   "cell_type": "code",
   "execution_count": 4,
   "metadata": {},
   "outputs": [],
   "source": [
    "class CNNBlock(layers.Layer):\n",
    "    def __init__(self, out_channels, kernel_size=3):\n",
    "        super(CNNBlock, self).__init__()\n",
    "        self.conv = layers.Conv2D(out_channels, kernel_size, padding='same')\n",
    "        self.bn = layers.BatchNormalization()\n",
    "        \n",
    "    def call(self,input_tensor, training=False):\n",
    "        #call method is forward method in pytorch\n",
    "        x = self.conv(input_tensor)\n",
    "        x = self.bn(x,training=training)\n",
    "        x = tf.nn.relu(x)\n",
    "        return x"
   ]
  },
  {
   "cell_type": "code",
   "execution_count": 5,
   "metadata": {},
   "outputs": [],
   "source": [
    "model = keras.Sequential([\n",
    "    CNNBlock(32),\n",
    "    CNNBlock(64),\n",
    "    CNNBlock(128),\n",
    "    layers.Flatten(),\n",
    "    layers.Dense(10)\n",
    "])"
   ]
  },
  {
   "cell_type": "code",
   "execution_count": 6,
   "metadata": {},
   "outputs": [],
   "source": [
    "model.compile(\n",
    "    optimizer = keras.optimizers.Adam(),\n",
    "    loss = keras.losses.SparseCategoricalCrossentropy(from_logits=True),\n",
    "    metrics = ['accuracy']\n",
    ")"
   ]
  },
  {
   "cell_type": "code",
   "execution_count": 7,
   "metadata": {},
   "outputs": [
    {
     "name": "stdout",
     "output_type": "stream",
     "text": [
      "Epoch 1/3\n",
      "938/938 - 14s - loss: 0.5923 - accuracy: 0.9439\n",
      "Epoch 2/3\n",
      "938/938 - 10s - loss: 0.0906 - accuracy: 0.9818\n",
      "Epoch 3/3\n",
      "938/938 - 10s - loss: 0.0377 - accuracy: 0.9889\n",
      "157/157 - 3s - loss: 0.0451 - accuracy: 0.9873\n"
     ]
    },
    {
     "data": {
      "text/plain": [
       "[0.04511084780097008, 0.9872999787330627]"
      ]
     },
     "execution_count": 7,
     "metadata": {},
     "output_type": "execute_result"
    }
   ],
   "source": [
    "model.fit(x_train,y_train,batch_size=64, epochs=3, verbose=2)\n",
    "model.evaluate(x_test,y_test,batch_size=64,verbose=2)"
   ]
  },
  {
   "cell_type": "markdown",
   "metadata": {},
   "source": [
    "### More things with Subclassing: ResNet like model\n",
    "Now we will write a ResNET like model in subclassing format"
   ]
  },
  {
   "cell_type": "code",
   "execution_count": 8,
   "metadata": {},
   "outputs": [],
   "source": [
    "class ResBlock(layers.Layer):\n",
    "    def __init__(self,channels):\n",
    "        super(ResBlock,self).__init__()\n",
    "        self.cnn1 = CNNBlock(channels[0])\n",
    "        self.cnn2 = CNNBlock(channels[1])\n",
    "        self.cnn3 = CNNBlock(channels[2])\n",
    "        self.pooling = layers.MaxPooling2D()\n",
    "        \n",
    "        #for skip connections we need identity mapping\n",
    "        self.identity_mapping = layers.Conv2D(channels[1],1,padding='same')\n",
    "        # change number of channels to the second layer output\n",
    "        \n",
    "    def call(self, input_tensor, training=False):\n",
    "        x = self.cnn1(input_tensor,training=training)\n",
    "        x = self.cnn2(x,training=training)\n",
    "        \n",
    "        #skip conncection\n",
    "        x = self.cnn3(\n",
    "            x + self.identity_mapping(input_tensor), training=training\n",
    "        )\n",
    "        # idenity maooing will return same no of channels as the second cnn block but has encoding\n",
    "        # of only 1 Convolution Operation\n",
    "        \n",
    "        return self.pooling(x)      "
   ]
  },
  {
   "cell_type": "code",
   "execution_count": 9,
   "metadata": {},
   "outputs": [],
   "source": [
    "class ResNet_Like(keras.Model):\n",
    "    #we can inherit functions like Predict, Train, evaluate, and all layers\n",
    "    def __init__(self, num_classes=10):\n",
    "        super(ResNet_Like, self).__init__()\n",
    "        self.block1 = ResBlock([32,32,64])\n",
    "        self.block2 = ResBlock([128,128,256])\n",
    "        self.block3 = ResBlock([128,256,512])\n",
    "        self.pool = layers.GlobalAveragePooling2D()\n",
    "        self.classifier = layers.Dense(num_classes)\n",
    "    \n",
    "    def call(self, input_tensor, training=False):\n",
    "        x = self.block1(input_tensor, training=training)\n",
    "        x = self.block2(x, training=training)\n",
    "        x = self.block3(x, training=training)\n",
    "        x = self.pool(x)\n",
    "        return self.classifier(x)\n",
    "    \n",
    "    def model(self):\n",
    "        # show output shapes when subclassing\n",
    "        x = keras.Input(shape=(28,28,1)) #give the input shape\n",
    "        return keras.Model(inputs=[x], outputs=self.call(x))\n",
    "        "
   ]
  },
  {
   "cell_type": "code",
   "execution_count": 10,
   "metadata": {},
   "outputs": [],
   "source": [
    "model = ResNet_Like(num_classes=10)"
   ]
  },
  {
   "cell_type": "code",
   "execution_count": 11,
   "metadata": {},
   "outputs": [
    {
     "name": "stdout",
     "output_type": "stream",
     "text": [
      "Epoch 1/20\n",
      "938/938 [==============================] - 40s 42ms/step - loss: 0.0854 - accuracy: 0.9745\n",
      "Epoch 2/20\n",
      "938/938 [==============================] - 21s 22ms/step - loss: 0.0369 - accuracy: 0.9886\n",
      "Epoch 3/20\n",
      "938/938 [==============================] - 21s 22ms/step - loss: 0.0277 - accuracy: 0.9911\n",
      "Epoch 4/20\n",
      "938/938 [==============================] - 21s 22ms/step - loss: 0.0248 - accuracy: 0.9918\n",
      "Epoch 5/20\n",
      "938/938 [==============================] - 21s 22ms/step - loss: 0.0214 - accuracy: 0.9931\n",
      "Epoch 6/20\n",
      "938/938 [==============================] - 21s 22ms/step - loss: 0.0184 - accuracy: 0.9940\n",
      "Epoch 7/20\n",
      "938/938 [==============================] - 21s 22ms/step - loss: 0.0155 - accuracy: 0.9950\n",
      "Epoch 8/20\n",
      "938/938 [==============================] - 21s 23ms/step - loss: 0.0128 - accuracy: 0.9959\n",
      "Epoch 9/20\n",
      "938/938 [==============================] - 22s 23ms/step - loss: 0.0140 - accuracy: 0.9955\n",
      "Epoch 10/20\n",
      "938/938 [==============================] - 22s 23ms/step - loss: 0.0112 - accuracy: 0.9969\n",
      "Epoch 11/20\n",
      "938/938 [==============================] - 22s 23ms/step - loss: 0.0109 - accuracy: 0.9964\n",
      "Epoch 12/20\n",
      "938/938 [==============================] - 22s 23ms/step - loss: 0.0094 - accuracy: 0.9969\n",
      "Epoch 13/20\n",
      "938/938 [==============================] - 22s 24ms/step - loss: 0.0076 - accuracy: 0.9976\n",
      "Epoch 14/20\n",
      "938/938 [==============================] - 22s 24ms/step - loss: 0.0079 - accuracy: 0.9974\n",
      "Epoch 15/20\n",
      "938/938 [==============================] - 22s 24ms/step - loss: 0.0056 - accuracy: 0.9980\n",
      "Epoch 16/20\n",
      "938/938 [==============================] - 22s 24ms/step - loss: 0.0059 - accuracy: 0.9981\n",
      "Epoch 17/20\n",
      "938/938 [==============================] - 22s 24ms/step - loss: 0.0056 - accuracy: 0.9980\n",
      "Epoch 18/20\n",
      "938/938 [==============================] - 22s 24ms/step - loss: 0.0057 - accuracy: 0.9980\n",
      "Epoch 19/20\n",
      "938/938 [==============================] - 22s 24ms/step - loss: 0.0061 - accuracy: 0.9981\n",
      "Epoch 20/20\n",
      "938/938 [==============================] - 22s 24ms/step - loss: 0.0039 - accuracy: 0.9987\n",
      "157/157 - 10s - loss: 0.0225 - accuracy: 0.9937\n"
     ]
    },
    {
     "data": {
      "text/plain": [
       "[0.02252722717821598, 0.9937000274658203]"
      ]
     },
     "execution_count": 11,
     "metadata": {},
     "output_type": "execute_result"
    }
   ],
   "source": [
    "model.compile(\n",
    "    optimizer = keras.optimizers.Adam(),\n",
    "    loss = keras.losses.SparseCategoricalCrossentropy(from_logits=True),\n",
    "    metrics = ['accuracy']\n",
    ")\n",
    "model.fit(x_train,y_train,batch_size=64, epochs=20, verbose=1)\n",
    "model.evaluate(x_test,y_test,batch_size=64,verbose=2)"
   ]
  },
  {
   "cell_type": "code",
   "execution_count": 17,
   "metadata": {},
   "outputs": [
    {
     "name": "stdout",
     "output_type": "stream",
     "text": [
      "Model: \"model\"\n",
      "_________________________________________________________________\n",
      "Layer (type)                 Output Shape              Param #   \n",
      "=================================================================\n",
      "input_1 (InputLayer)         [(None, 28, 28, 1)]       0         \n",
      "_________________________________________________________________\n",
      "res_block_3 (ResBlock)       (None, 14, 14, 64)        28640     \n",
      "_________________________________________________________________\n",
      "res_block_4 (ResBlock)       (None, 7, 7, 256)         526976    \n",
      "_________________________________________________________________\n",
      "res_block_5 (ResBlock)       (None, 3, 3, 512)         1839744   \n",
      "_________________________________________________________________\n",
      "global_average_pooling2d_1 ( (None, 512)               0         \n",
      "_________________________________________________________________\n",
      "dense_2 (Dense)              (None, 10)                5130      \n",
      "=================================================================\n",
      "Total params: 2,400,490\n",
      "Trainable params: 2,397,418\n",
      "Non-trainable params: 3,072\n",
      "_________________________________________________________________\n"
     ]
    }
   ],
   "source": [
    "model.model().summary()"
   ]
  },
  {
   "cell_type": "code",
   "execution_count": null,
   "metadata": {},
   "outputs": [],
   "source": []
  }
 ],
 "metadata": {
  "kernelspec": {
   "display_name": "Python [conda env:tf]",
   "language": "python",
   "name": "conda-env-tf-py"
  },
  "language_info": {
   "codemirror_mode": {
    "name": "ipython",
    "version": 3
   },
   "file_extension": ".py",
   "mimetype": "text/x-python",
   "name": "python",
   "nbconvert_exporter": "python",
   "pygments_lexer": "ipython3",
   "version": "3.8.5"
  }
 },
 "nbformat": 4,
 "nbformat_minor": 4
}
