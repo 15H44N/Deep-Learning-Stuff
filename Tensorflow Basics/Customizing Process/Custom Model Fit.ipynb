{
 "cells": [
  {
   "cell_type": "code",
   "execution_count": 1,
   "metadata": {},
   "outputs": [],
   "source": [
    "import os\n",
    "os.environ['TF_CPP_MIN_LOG_LEVEL'] = \"2\""
   ]
  },
  {
   "cell_type": "code",
   "execution_count": 2,
   "metadata": {},
   "outputs": [],
   "source": [
    "import tensorflow as tf\n",
    "from tensorflow import keras\n",
    "from tensorflow.keras import layers\n",
    "from tensorflow.keras.datasets import mnist"
   ]
  },
  {
   "cell_type": "code",
   "execution_count": 3,
   "metadata": {},
   "outputs": [],
   "source": [
    "physical_devices = tf.config.list_physical_devices(\"GPU\")\n",
    "tf.config.experimental.set_memory_growth(physical_devices[0], True)"
   ]
  },
  {
   "cell_type": "code",
   "execution_count": 4,
   "metadata": {},
   "outputs": [],
   "source": [
    "(x_train, y_train),(x_test,y_test)  = mnist.load_data()\n",
    "x_train = x_train.reshape(-1,28,28,1).astype('float32') / 255.0\n",
    "x_test = x_test.reshape(-1,28,28,1).astype('float32') / 255.0"
   ]
  },
  {
   "cell_type": "code",
   "execution_count": 5,
   "metadata": {},
   "outputs": [],
   "source": [
    "model = keras.Sequential(\n",
    "    [\n",
    "        layers.Input(shape=(28,28,1)),\n",
    "        layers.Conv2D(64,3,padding='same'),\n",
    "        layers.ReLU(),\n",
    "        layers.Conv2D(128,3, padding='same'),\n",
    "        layers.ReLU(),\n",
    "        layers.Flatten(),\n",
    "        layers.Dense(10,activation='softmax')\n",
    "    ]\n",
    ")"
   ]
  },
  {
   "cell_type": "code",
   "execution_count": 13,
   "metadata": {},
   "outputs": [],
   "source": [
    "class CustomFit(keras.Model):\n",
    "    def __init__(self,model):\n",
    "        super(CustomFit, self).__init__()\n",
    "        self.model = model\n",
    "    \n",
    "    #define 1 training step\n",
    "    #example is GAN where we can customize training loop\n",
    "    \n",
    "    def compile(self, optimizer, loss):\n",
    "        #custom compile\n",
    "        super(CustomFit, self).compile()\n",
    "        self.optimizer = optimizer\n",
    "        self.loss = loss\n",
    "    \n",
    "    def train_step(self, data):\n",
    "        x,y = data\n",
    "        \n",
    "        with tf.GradientTape() as tape:\n",
    "            #now forward prop so tape will record all the grads\n",
    "            y_pred  = self.model(x, training=True)\n",
    "            loss = self.loss(y,y_pred)\n",
    "        \n",
    "        training_vars = self.trainable_variables\n",
    "        gradients = tape.gradient(loss, training_vars) #grad of loss wrt traiing vars\n",
    "        \n",
    "        self.optimizer.apply_gradients(zip(gradients, training_vars))\n",
    "        acc_metric.update_state(y,y_pred)\n",
    "        \n",
    "        return {'loss':loss, \"accuracy\":acc_metric.result()}\n",
    "    \n",
    "    \n",
    "    def test_step(self,data):\n",
    "        #evaluation loop\n",
    "        x,y = data\n",
    "        \n",
    "        y_pred = self.model(x, training=False)\n",
    "        loss = self.loss(y,y_pred)\n",
    "        acc_metric.update_state(y,y_pred)\n",
    "        return {'loss':loss, \"accuracy\":acc_metric.result()}\n",
    "        "
   ]
  },
  {
   "cell_type": "code",
   "execution_count": 14,
   "metadata": {},
   "outputs": [
    {
     "name": "stdout",
     "output_type": "stream",
     "text": [
      "Epoch 1/2\n",
      "1875/1875 [==============================] - 8s 4ms/step - loss: 1.4813 - accuracy: 0.9810\n",
      "Epoch 2/2\n",
      "1875/1875 [==============================] - 8s 4ms/step - loss: 1.4811 - accuracy: 0.9799\n"
     ]
    },
    {
     "data": {
      "text/plain": [
       "<tensorflow.python.keras.callbacks.History at 0x7f4d9c0eea60>"
      ]
     },
     "execution_count": 14,
     "metadata": {},
     "output_type": "execute_result"
    }
   ],
   "source": [
    "acc_metric = keras.metrics.SparseCategoricalAccuracy(name='accuracy')\n",
    "\n",
    "training = CustomFit(model)\n",
    "training.compile(\n",
    "    optimizer = keras.optimizers.Adam(),\n",
    "    loss = keras.losses.SparseCategoricalCrossentropy(from_logits=True),\n",
    ")\n",
    "\n",
    "training.fit(x_train, y_train, batch_size = 32, epochs = 2)"
   ]
  },
  {
   "cell_type": "code",
   "execution_count": 15,
   "metadata": {},
   "outputs": [
    {
     "name": "stdout",
     "output_type": "stream",
     "text": [
      "313/313 [==============================] - 1s 3ms/step - loss: 1.4782 - accuracy: 0.9798\n"
     ]
    },
    {
     "data": {
      "text/plain": [
       "[]"
      ]
     },
     "execution_count": 15,
     "metadata": {},
     "output_type": "execute_result"
    }
   ],
   "source": [
    "training.evaluate(x_test,y_test)"
   ]
  },
  {
   "cell_type": "code",
   "execution_count": null,
   "metadata": {},
   "outputs": [],
   "source": []
  }
 ],
 "metadata": {
  "kernelspec": {
   "display_name": "Python [conda env:tf-gpu]",
   "language": "python",
   "name": "conda-env-tf-gpu-py"
  },
  "language_info": {
   "codemirror_mode": {
    "name": "ipython",
    "version": 3
   },
   "file_extension": ".py",
   "mimetype": "text/x-python",
   "name": "python",
   "nbconvert_exporter": "python",
   "pygments_lexer": "ipython3",
   "version": "3.8.5"
  }
 },
 "nbformat": 4,
 "nbformat_minor": 4
}
