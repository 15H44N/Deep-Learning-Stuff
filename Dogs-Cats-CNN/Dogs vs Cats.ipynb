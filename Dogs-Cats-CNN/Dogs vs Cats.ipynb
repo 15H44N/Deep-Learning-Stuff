{
 "cells": [
  {
   "cell_type": "code",
   "execution_count": 1,
   "metadata": {
    "Collapsed": "false"
   },
   "outputs": [],
   "source": [
    "#!pip install pandas\n",
    "#!pip install seaborn"
   ]
  },
  {
   "cell_type": "code",
   "execution_count": 2,
   "metadata": {
    "Collapsed": "false",
    "_cell_guid": "79c7e3d0-c299-4dcb-8224-4455121ee9b0",
    "_uuid": "d629ff2d2480ee46fbb7e2d37f6b5fab8052498a",
    "scrolled": true
   },
   "outputs": [],
   "source": [
    "import numpy as np\n",
    "import pandas as pd \n",
    "import tensorflow as tf\n",
    "\n",
    "import matplotlib.pyplot as plt\n",
    "import random\n",
    "import os\n",
    "#print(os.listdir(\"../input/dogs-vs-cats/\"))"
   ]
  },
  {
   "cell_type": "code",
   "execution_count": 3,
   "metadata": {
    "Collapsed": "false",
    "scrolled": true
   },
   "outputs": [],
   "source": [
    "FAST_RUN = False\n",
    "IMAGE_WIDTH=128\n",
    "IMAGE_HEIGHT=128\n",
    "IMAGE_SIZE=(IMAGE_WIDTH, IMAGE_HEIGHT)\n",
    "IMAGE_CHANNELS=3"
   ]
  },
  {
   "cell_type": "markdown",
   "metadata": {
    "Collapsed": "false"
   },
   "source": [
    "## Preprocessing Data"
   ]
  },
  {
   "cell_type": "code",
   "execution_count": 5,
   "metadata": {
    "Collapsed": "false",
    "scrolled": true
   },
   "outputs": [],
   "source": [
    "from tensorflow.keras.preprocessing.image import ImageDataGenerator, load_img\n",
    "from tensorflow.keras.utils import to_categorical\n",
    "from sklearn.model_selection import train_test_split"
   ]
  },
  {
   "cell_type": "code",
   "execution_count": 6,
   "metadata": {
    "Collapsed": "false",
    "scrolled": true
   },
   "outputs": [],
   "source": [
    "basepath = \"D:/Datasets/dogs-vs-cats/\"\n",
    "filenames = os.listdir(basepath+\"train/\")\n",
    "\n",
    "categories = []\n",
    "for filename in filenames:\n",
    "    category = filename.split('.')[0]\n",
    "    categories.append(category)\n",
    "\n",
    "files_df = pd.DataFrame({\n",
    "    'filename': filenames,\n",
    "    'category': categories\n",
    "})"
   ]
  },
  {
   "cell_type": "code",
   "execution_count": 7,
   "metadata": {
    "Collapsed": "false"
   },
   "outputs": [
    {
     "data": {
      "text/html": [
       "<div>\n",
       "<style scoped>\n",
       "    .dataframe tbody tr th:only-of-type {\n",
       "        vertical-align: middle;\n",
       "    }\n",
       "\n",
       "    .dataframe tbody tr th {\n",
       "        vertical-align: top;\n",
       "    }\n",
       "\n",
       "    .dataframe thead th {\n",
       "        text-align: right;\n",
       "    }\n",
       "</style>\n",
       "<table border=\"1\" class=\"dataframe\">\n",
       "  <thead>\n",
       "    <tr style=\"text-align: right;\">\n",
       "      <th></th>\n",
       "      <th>filename</th>\n",
       "      <th>category</th>\n",
       "    </tr>\n",
       "  </thead>\n",
       "  <tbody>\n",
       "    <tr>\n",
       "      <th>0</th>\n",
       "      <td>cat.0.jpg</td>\n",
       "      <td>cat</td>\n",
       "    </tr>\n",
       "    <tr>\n",
       "      <th>1</th>\n",
       "      <td>cat.1.jpg</td>\n",
       "      <td>cat</td>\n",
       "    </tr>\n",
       "    <tr>\n",
       "      <th>2</th>\n",
       "      <td>cat.10.jpg</td>\n",
       "      <td>cat</td>\n",
       "    </tr>\n",
       "    <tr>\n",
       "      <th>3</th>\n",
       "      <td>cat.100.jpg</td>\n",
       "      <td>cat</td>\n",
       "    </tr>\n",
       "    <tr>\n",
       "      <th>4</th>\n",
       "      <td>cat.1000.jpg</td>\n",
       "      <td>cat</td>\n",
       "    </tr>\n",
       "  </tbody>\n",
       "</table>\n",
       "</div>"
      ],
      "text/plain": [
       "       filename category\n",
       "0     cat.0.jpg      cat\n",
       "1     cat.1.jpg      cat\n",
       "2    cat.10.jpg      cat\n",
       "3   cat.100.jpg      cat\n",
       "4  cat.1000.jpg      cat"
      ]
     },
     "execution_count": 7,
     "metadata": {},
     "output_type": "execute_result"
    }
   ],
   "source": [
    "files_df.head()"
   ]
  },
  {
   "cell_type": "code",
   "execution_count": 8,
   "metadata": {
    "Collapsed": "false"
   },
   "outputs": [],
   "source": [
    "train_df, validate_df = train_test_split(files_df, \n",
    "                                         test_size=0.20,                                         \n",
    "                                         random_state=0)\n",
    "train_df = train_df.reset_index(drop=True)\n",
    "validate_df = validate_df.reset_index(drop=True)"
   ]
  },
  {
   "cell_type": "code",
   "execution_count": 9,
   "metadata": {
    "Collapsed": "false"
   },
   "outputs": [],
   "source": [
    "total_train = train_df.shape[0]\n",
    "total_validate = validate_df.shape[0]\n",
    "batch_size=15"
   ]
  },
  {
   "cell_type": "markdown",
   "metadata": {
    "Collapsed": "false"
   },
   "source": [
    "## Preparing Image Data"
   ]
  },
  {
   "cell_type": "code",
   "execution_count": 10,
   "metadata": {
    "Collapsed": "false"
   },
   "outputs": [],
   "source": [
    "train_path = basepath+\"train/\"\n",
    "test_path = basepath+\"test1/\""
   ]
  },
  {
   "cell_type": "code",
   "execution_count": 11,
   "metadata": {
    "Collapsed": "false"
   },
   "outputs": [
    {
     "name": "stdout",
     "output_type": "stream",
     "text": [
      "Found 20000 validated image filenames belonging to 2 classes.\n"
     ]
    }
   ],
   "source": [
    "train_datagen = ImageDataGenerator(\n",
    "    rotation_range=15,\n",
    "    rescale=1./255,\n",
    "    shear_range=0.1,\n",
    "    zoom_range=0.2,\n",
    "    horizontal_flip=True,\n",
    "    width_shift_range=0.1,\n",
    "    height_shift_range=0.1\n",
    ")\n",
    "\n",
    "train_generator = train_datagen.flow_from_dataframe(\n",
    "    train_df, \n",
    "    train_path, \n",
    "    x_col='filename',\n",
    "    y_col='category',\n",
    "    target_size=IMAGE_SIZE,\n",
    "    class_mode='categorical',\n",
    "    batch_size=batch_size\n",
    ")"
   ]
  },
  {
   "cell_type": "code",
   "execution_count": 12,
   "metadata": {
    "Collapsed": "false"
   },
   "outputs": [
    {
     "name": "stdout",
     "output_type": "stream",
     "text": [
      "Found 5000 validated image filenames belonging to 2 classes.\n"
     ]
    }
   ],
   "source": [
    "validation_datagen = ImageDataGenerator(rescale=1./255)\n",
    "\n",
    "validation_generator = validation_datagen.flow_from_dataframe(validate_df, \n",
    "    train_path, \n",
    "    x_col='filename',\n",
    "    y_col='category',\n",
    "    target_size=IMAGE_SIZE,\n",
    "    class_mode='categorical',\n",
    "    batch_size=batch_size\n",
    ")"
   ]
  },
  {
   "cell_type": "markdown",
   "metadata": {
    "Collapsed": "false"
   },
   "source": [
    "## Creating CNN Model"
   ]
  },
  {
   "cell_type": "code",
   "execution_count": 13,
   "metadata": {
    "Collapsed": "false"
   },
   "outputs": [],
   "source": [
    "from tensorflow.keras.models import Sequential\n",
    "from tensorflow.keras.applications import VGG16\n",
    "from tensorflow.keras.layers import Conv2D, MaxPooling2D, Dropout, Flatten, Dense, Activation, BatchNormalization, GlobalAveragePooling2D"
   ]
  },
  {
   "cell_type": "code",
   "execution_count": 14,
   "metadata": {
    "Collapsed": "false"
   },
   "outputs": [
    {
     "name": "stdout",
     "output_type": "stream",
     "text": [
      "WARNING:tensorflow:From <ipython-input-14-78f884b5c1a9>:1: is_gpu_available (from tensorflow.python.framework.test_util) is deprecated and will be removed in a future version.\n",
      "Instructions for updating:\n",
      "Use `tf.config.list_physical_devices('GPU')` instead.\n"
     ]
    },
    {
     "data": {
      "text/plain": [
       "True"
      ]
     },
     "execution_count": 14,
     "metadata": {},
     "output_type": "execute_result"
    }
   ],
   "source": [
    "tf.test.is_gpu_available(cuda_only=False, min_cuda_compute_capability=None)"
   ]
  },
  {
   "cell_type": "code",
   "execution_count": 15,
   "metadata": {
    "Collapsed": "false"
   },
   "outputs": [
    {
     "data": {
      "text/plain": [
       "[PhysicalDevice(name='/physical_device:GPU:0', device_type='GPU')]"
      ]
     },
     "execution_count": 15,
     "metadata": {},
     "output_type": "execute_result"
    }
   ],
   "source": [
    "tf.config.list_physical_devices('GPU')"
   ]
  },
  {
   "cell_type": "code",
   "execution_count": 16,
   "metadata": {
    "Collapsed": "false"
   },
   "outputs": [],
   "source": [
    "def create_model():        \n",
    "    \n",
    "    model = Sequential()\n",
    "    model.add(Conv2D(32, (3, 3), \n",
    "                     activation='relu',\n",
    "                     input_shape=(IMAGE_WIDTH, IMAGE_HEIGHT, IMAGE_CHANNELS)))\n",
    "    \n",
    "    model.add(BatchNormalization())\n",
    "    model.add(MaxPooling2D(pool_size=(2, 2)))\n",
    "    model.add(Dropout(0.25))\n",
    "\n",
    "    model.add(Conv2D(60, (3, 3), activation='relu',strides=2))\n",
    "    model.add(BatchNormalization())\n",
    "    model.add(MaxPooling2D(pool_size=(2, 2)))\n",
    "    model.add(Dropout(0.25))\n",
    "\n",
    "    model.add(Flatten())\n",
    "    \n",
    "    model.add(Dense(100, activation='relu'))\n",
    "    model.add(BatchNormalization())\n",
    "    model.add(Dropout(0.5))\n",
    "    \n",
    "    model.add(Dense(2, activation='sigmoid'))\n",
    "    \n",
    "    model.compile(loss='categorical_crossentropy', \n",
    "                  optimizer='adam',\n",
    "                  metrics=['accuracy'])\n",
    "\n",
    "    #model.summary()\n",
    "    return model"
   ]
  },
  {
   "cell_type": "code",
   "execution_count": 17,
   "metadata": {
    "Collapsed": "false"
   },
   "outputs": [],
   "source": [
    "def createVGG16model():\n",
    "    pretrained_model = VGG16(weights='imagenet', include_top=False ,input_shape=(IMAGE_WIDTH, IMAGE_HEIGHT, IMAGE_CHANNELS))\n",
    "    pretrained_model.trainable = False \n",
    "    \n",
    "    model = Sequential([pretrained_model,\n",
    "                        GlobalAveragePooling2D(),\n",
    "                        Dense(2, activation='softmax')])\n",
    "\n",
    "    model.compile(optimizer='adam',\n",
    "                    loss = 'categorical_crossentropy',\n",
    "                    metrics=['accuracy'])\n",
    "\n",
    "    return model"
   ]
  },
  {
   "cell_type": "markdown",
   "metadata": {
    "Collapsed": "false"
   },
   "source": [
    "### Callbacks"
   ]
  },
  {
   "cell_type": "code",
   "execution_count": 18,
   "metadata": {
    "Collapsed": "false"
   },
   "outputs": [],
   "source": [
    "from tensorflow.keras.callbacks import EarlyStopping, ReduceLROnPlateau\n",
    "earlystop = EarlyStopping(patience=10)\n",
    "\n",
    "learning_rate_reduction = ReduceLROnPlateau(monitor='val_accuracy', \n",
    "                                            patience=2, \n",
    "                                            verbose=1, \n",
    "                                            factor=0.5, \n",
    "                                            min_lr=0.00001)\n",
    "\n",
    "callbacks = [earlystop, learning_rate_reduction]"
   ]
  },
  {
   "cell_type": "markdown",
   "metadata": {
    "Collapsed": "false"
   },
   "source": [
    "## Fitting the Model"
   ]
  },
  {
   "cell_type": "code",
   "execution_count": 19,
   "metadata": {
    "Collapsed": "false"
   },
   "outputs": [
    {
     "name": "stdout",
     "output_type": "stream",
     "text": [
      "Epoch 1/50\n",
      "1333/1333 [==============================] - 400s 300ms/step - loss: 0.6773 - accuracy: 0.6040 - val_loss: 0.7114 - val_accuracy: 0.7333\n",
      "Epoch 2/50\n",
      "1333/1333 [==============================] - 124s 93ms/step - loss: 0.6003 - accuracy: 0.6785 - val_loss: 0.6239 - val_accuracy: 0.6667\n",
      "Epoch 3/50\n",
      "1333/1333 [==============================] - 74s 56ms/step - loss: 0.5750 - accuracy: 0.6965 - val_loss: 0.4646 - val_accuracy: 0.8000\n",
      "Epoch 4/50\n",
      "1333/1333 [==============================] - 74s 56ms/step - loss: 0.5439 - accuracy: 0.7210 - val_loss: 0.6627 - val_accuracy: 0.6000\n",
      "Epoch 5/50\n",
      "1333/1333 [==============================] - ETA: 0s - loss: 0.5239 - accuracy: 0.7414\n",
      "Epoch 00005: ReduceLROnPlateau reducing learning rate to 0.0005000000237487257.\n",
      "1333/1333 [==============================] - 73s 55ms/step - loss: 0.5239 - accuracy: 0.7414 - val_loss: 0.3696 - val_accuracy: 0.8000\n",
      "Epoch 6/50\n",
      "1333/1333 [==============================] - 73s 55ms/step - loss: 0.4937 - accuracy: 0.7616 - val_loss: 0.5851 - val_accuracy: 0.6667\n",
      "Epoch 7/50\n",
      "1333/1333 [==============================] - ETA: 0s - loss: 0.4826 - accuracy: 0.7648\n",
      "Epoch 00007: ReduceLROnPlateau reducing learning rate to 0.0002500000118743628.\n",
      "1333/1333 [==============================] - 74s 55ms/step - loss: 0.4826 - accuracy: 0.7648 - val_loss: 0.4300 - val_accuracy: 0.7333\n",
      "Epoch 8/50\n",
      "1333/1333 [==============================] - 73s 55ms/step - loss: 0.4708 - accuracy: 0.7762 - val_loss: 0.6912 - val_accuracy: 0.6667\n",
      "Epoch 9/50\n",
      "1333/1333 [==============================] - ETA: 0s - loss: 0.4576 - accuracy: 0.7788\n",
      "Epoch 00009: ReduceLROnPlateau reducing learning rate to 0.0001250000059371814.\n",
      "1333/1333 [==============================] - 73s 55ms/step - loss: 0.4576 - accuracy: 0.7788 - val_loss: 1.1168 - val_accuracy: 0.6000\n",
      "Epoch 10/50\n",
      "1333/1333 [==============================] - 74s 56ms/step - loss: 0.4551 - accuracy: 0.7840 - val_loss: 0.4275 - val_accuracy: 0.8000\n",
      "Epoch 11/50\n",
      "1333/1333 [==============================] - 73s 55ms/step - loss: 0.4431 - accuracy: 0.7958 - val_loss: 0.2722 - val_accuracy: 0.8667\n",
      "Epoch 12/50\n",
      "1333/1333 [==============================] - 74s 56ms/step - loss: 0.4434 - accuracy: 0.7920 - val_loss: 0.3087 - val_accuracy: 0.8000\n",
      "Epoch 13/50\n",
      "1333/1333 [==============================] - ETA: 0s - loss: 0.4405 - accuracy: 0.7932\n",
      "Epoch 00013: ReduceLROnPlateau reducing learning rate to 6.25000029685907e-05.\n",
      "1333/1333 [==============================] - 74s 55ms/step - loss: 0.4405 - accuracy: 0.7932 - val_loss: 0.4627 - val_accuracy: 0.8000\n",
      "Epoch 14/50\n",
      "1333/1333 [==============================] - 73s 55ms/step - loss: 0.4393 - accuracy: 0.7950 - val_loss: 0.1449 - val_accuracy: 0.9333\n",
      "Epoch 15/50\n",
      "1333/1333 [==============================] - 77s 58ms/step - loss: 0.4315 - accuracy: 0.7975 - val_loss: 0.5276 - val_accuracy: 0.8000\n",
      "Epoch 16/50\n",
      "1333/1333 [==============================] - ETA: 0s - loss: 0.4348 - accuracy: 0.7988\n",
      "Epoch 00016: ReduceLROnPlateau reducing learning rate to 3.125000148429535e-05.\n",
      "1333/1333 [==============================] - 79s 60ms/step - loss: 0.4348 - accuracy: 0.7988 - val_loss: 0.4638 - val_accuracy: 0.7333\n",
      "Epoch 17/50\n",
      "1333/1333 [==============================] - 78s 59ms/step - loss: 0.4329 - accuracy: 0.8004 - val_loss: 0.5526 - val_accuracy: 0.8000\n",
      "Epoch 18/50\n",
      "1333/1333 [==============================] - ETA: 0s - loss: 0.4335 - accuracy: 0.7970\n",
      "Epoch 00018: ReduceLROnPlateau reducing learning rate to 1.5625000742147677e-05.\n",
      "1333/1333 [==============================] - 80s 60ms/step - loss: 0.4335 - accuracy: 0.7970 - val_loss: 0.1967 - val_accuracy: 0.9333\n",
      "Epoch 19/50\n",
      "1333/1333 [==============================] - 81s 61ms/step - loss: 0.4304 - accuracy: 0.8005 - val_loss: 0.3027 - val_accuracy: 0.8667\n",
      "Epoch 20/50\n",
      "1333/1333 [==============================] - 81s 61ms/step - loss: 0.4270 - accuracy: 0.7999 - val_loss: 0.2185 - val_accuracy: 1.0000\n",
      "Epoch 21/50\n",
      "1333/1333 [==============================] - 84s 63ms/step - loss: 0.4321 - accuracy: 0.7978 - val_loss: 0.2464 - val_accuracy: 0.8667\n",
      "Epoch 22/50\n",
      "1333/1333 [==============================] - ETA: 0s - loss: 0.4240 - accuracy: 0.8022\n",
      "Epoch 00022: ReduceLROnPlateau reducing learning rate to 1e-05.\n",
      "1333/1333 [==============================] - 86s 65ms/step - loss: 0.4240 - accuracy: 0.8022 - val_loss: 0.3610 - val_accuracy: 0.8000\n",
      "Epoch 23/50\n",
      "1333/1333 [==============================] - 85s 64ms/step - loss: 0.4295 - accuracy: 0.8023 - val_loss: 0.3550 - val_accuracy: 0.8667\n",
      "Epoch 24/50\n",
      "1333/1333 [==============================] - 89s 67ms/step - loss: 0.4252 - accuracy: 0.8039 - val_loss: 0.5221 - val_accuracy: 0.8000\n",
      "Wall time: 37min 15s\n"
     ]
    }
   ],
   "source": [
    "%%time\n",
    "if FAST_RUN :\n",
    "    epochs = 3\n",
    "else:\n",
    "    epochs = 50\n",
    "\n",
    "#with strategy.scope():\n",
    "with tf.device(\"/gpu:0\"):   \n",
    "    #model = createVGG16model()\n",
    "    model = create_model()\n",
    "    history = model.fit(train_generator, \n",
    "                        epochs=epochs,\n",
    "                        validation_data=validation_generator,\n",
    "                        validation_steps=1,\n",
    "                        steps_per_epoch=total_train//batch_size,\n",
    "                        callbacks=callbacks)\n",
    "\n",
    "model.save_weights(\"./Models/model.h5\")"
   ]
  },
  {
   "cell_type": "markdown",
   "metadata": {
    "Collapsed": "false"
   },
   "source": [
    "## Output Graph"
   ]
  },
  {
   "cell_type": "code",
   "execution_count": 22,
   "metadata": {
    "Collapsed": "false"
   },
   "outputs": [
    {
     "data": {
      "text/plain": [
       "<AxesSubplot:>"
      ]
     },
     "execution_count": 22,
     "metadata": {},
     "output_type": "execute_result"
    },
    {
     "data": {
      "image/png": "[encoded data removed]",
      "text/plain": [
       "<Figure size 864x1080 with 2 Axes>"
      ]
     },
     "metadata": {},
     "output_type": "display_data"
    }
   ],
   "source": [
    "import seaborn as sns\n",
    "his_dict = history.history\n",
    "fig = plt.figure(figsize=(12, 15))\n",
    "x_range = range(len(history.history['loss']))\n",
    "sns.set_style('darkgrid')\n",
    "\n",
    "fig.add_subplot(2,1,1)\n",
    "sns.lineplot(x=x_range , y=his_dict[\"val_loss\"],label='Validation Loss')\n",
    "sns.lineplot(x=x_range , y=his_dict[\"loss\"],label='Training Loss')\n",
    "\n",
    "fig.add_subplot(2,1,2)\n",
    "sns.lineplot(x=x_range , y=his_dict[\"val_accuracy\"],label='Validation Accuracy')\n",
    "sns.lineplot(x=x_range , y=his_dict[\"accuracy\"],label='Training Accuracy')"
   ]
  },
  {
   "cell_type": "code",
   "execution_count": 34,
   "metadata": {
    "Collapsed": "false"
   },
   "outputs": [
    {
     "name": "stdout",
     "output_type": "stream",
     "text": [
      "Validation Accuracy 78.88889014720917\n",
      "Validation Loss 45.90669218450785\n",
      "Training Accuracy 77.01317692796388\n",
      "Training Loss 47.2798412044843\n"
     ]
    }
   ],
   "source": [
    "print(\"Validation Accuracy {}\".format(np.mean(his_dict['val_accuracy'])*100))\n",
    "print(\"Validation Loss {}\".format(np.mean(his_dict['val_loss'])*100))\n",
    "print(\"Training Accuracy {}\".format(np.mean(his_dict['accuracy'])*100))\n",
    "print(\"Training Loss {}\".format(np.mean(his_dict['loss'])*100))"
   ]
  },
  {
   "cell_type": "markdown",
   "metadata": {
    "Collapsed": "false"
   },
   "source": [
    "## Predictions"
   ]
  },
  {
   "cell_type": "code",
   "execution_count": 36,
   "metadata": {
    "Collapsed": "false"
   },
   "outputs": [],
   "source": [
    "test_filenames = os.listdir(basepath+\"test1/\") \n",
    "test_df = pd.DataFrame({\n",
    "    'filename': test_filenames\n",
    "})\n",
    "idlist=[]\n",
    "for file in test_df[\"filename\"]:\n",
    "    idlist.append(file.split(\".\")[0])\n",
    "\n",
    "#test_df['ids'] = alist\n",
    "nb_samples = test_df.shape[0]"
   ]
  },
  {
   "cell_type": "code",
   "execution_count": 37,
   "metadata": {
    "Collapsed": "false"
   },
   "outputs": [
    {
     "name": "stdout",
     "output_type": "stream",
     "text": [
      "Found 12500 validated image filenames.\n"
     ]
    }
   ],
   "source": [
    "test_gen = ImageDataGenerator(rescale=1./255)\n",
    "test_generator = test_gen.flow_from_dataframe(\n",
    "    test_df, \n",
    "    basepath+\"test1/\", \n",
    "    x_col='filename',\n",
    "    y_col=None,\n",
    "    class_mode=None,\n",
    "    target_size=IMAGE_SIZE,\n",
    "    batch_size=batch_size,\n",
    "    shuffle=False\n",
    ")"
   ]
  },
  {
   "cell_type": "code",
   "execution_count": 38,
   "metadata": {
    "Collapsed": "false"
   },
   "outputs": [
    {
     "name": "stdout",
     "output_type": "stream",
     "text": [
      "WARNING:tensorflow:From <ipython-input-38-52619fd72ccc>:1: Model.predict_generator (from tensorflow.python.keras.engine.training) is deprecated and will be removed in a future version.\n",
      "Instructions for updating:\n",
      "Please use Model.predict, which supports generators.\n"
     ]
    }
   ],
   "source": [
    "predict = model.predict_generator(test_generator, steps=np.ceil(nb_samples/batch_size))"
   ]
  },
  {
   "cell_type": "code",
   "execution_count": 39,
   "metadata": {
    "Collapsed": "false"
   },
   "outputs": [],
   "source": [
    "test_df['category'] = np.argmax(predict, axis=-1)"
   ]
  },
  {
   "cell_type": "code",
   "execution_count": 40,
   "metadata": {
    "Collapsed": "false"
   },
   "outputs": [],
   "source": [
    "label_map = dict((v,k) for k,v in train_generator.class_indices.items())\n",
    "test_df['category'] = test_df['category'].replace(label_map)"
   ]
  },
  {
   "cell_type": "code",
   "execution_count": 41,
   "metadata": {
    "Collapsed": "false"
   },
   "outputs": [],
   "source": [
    "test_df['category'] = test_df['category'].replace({ 'dog': 1, 'cat': 0 })"
   ]
  },
  {
   "cell_type": "markdown",
   "metadata": {
    "Collapsed": "false"
   },
   "source": [
    "## Submission"
   ]
  },
  {
   "cell_type": "code",
   "execution_count": 42,
   "metadata": {
    "Collapsed": "false"
   },
   "outputs": [],
   "source": [
    "submission_df = test_df.copy()\n",
    "submission_df['id'] = submission_df['filename'].str.split('.').str[0]\n",
    "submission_df['label'] = submission_df['category']\n",
    "submission_df.drop(['filename', 'category'], axis=1, inplace=True)\n",
    "submission_df.to_csv('submission.csv', index=False)"
   ]
  },
  {
   "cell_type": "code",
   "execution_count": null,
   "metadata": {
    "Collapsed": "false"
   },
   "outputs": [],
   "source": []
  }
 ],
 "metadata": {
  "kernelspec": {
   "display_name": "Python [conda env:tf-gpu]",
   "language": "python",
   "name": "conda-env-tf-gpu-py"
  },
  "language_info": {
   "codemirror_mode": {
    "name": "ipython",
    "version": 3
   },
   "file_extension": ".py",
   "mimetype": "text/x-python",
   "name": "python",
   "nbconvert_exporter": "python",
   "pygments_lexer": "ipython3",
   "version": "3.6.10"
  }
 },
 "nbformat": 4,
 "nbformat_minor": 4
}
