{
 "cells": [
  {
   "cell_type": "markdown",
   "metadata": {
    "Collapsed": "false"
   },
   "source": [
    "### Idea\n",
    "We will take a pretrained VGG network like, remove the softmax layer.  \n",
    "Image gets encoded by VGG  \n",
    "The output is hooked up to a Sequence Model. (CNN -> RNN)"
   ]
  },
  {
   "cell_type": "markdown",
   "metadata": {
    "Collapsed": "false"
   },
   "source": [
    "There are a few ways we can do this connection.   \n",
    "1. We can send it as the first Input to Sequence **{We will do}**\n",
    "2. We can send it as the first Hidden State  \n",
    "  \n",
    "Below, there is a representation of the model, During Training Time.\n",
    "<div>\n",
    "<img src=\"res/image_cap1.png\" width=\"600\"/>\n",
    "</div>\n",
    "  \n",
    "During Training time, we can see the output it produces and then in next input we send the previous **known** correct word."
   ]
  },
  {
   "cell_type": "code",
   "execution_count": null,
   "metadata": {
    "Collapsed": "false"
   },
   "outputs": [],
   "source": []
  }
 ],
 "metadata": {
  "kernelspec": {
   "display_name": "Python [conda env:torch-gpu]",
   "language": "python",
   "name": "conda-env-torch-gpu-py"
  },
  "language_info": {
   "codemirror_mode": {
    "name": "ipython",
    "version": 3
   },
   "file_extension": ".py",
   "mimetype": "text/x-python",
   "name": "python",
   "nbconvert_exporter": "python",
   "pygments_lexer": "ipython3",
   "version": "3.8.5"
  }
 },
 "nbformat": 4,
 "nbformat_minor": 4
}
