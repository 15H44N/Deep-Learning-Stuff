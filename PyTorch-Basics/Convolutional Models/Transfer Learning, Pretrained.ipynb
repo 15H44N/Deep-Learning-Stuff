{
 "cells": [
  {
   "cell_type": "code",
   "execution_count": 1,
   "metadata": {},
   "outputs": [],
   "source": [
    "import torch #main torch module\n",
    "import torch.nn as nn #neural net module\n",
    "import torch.optim as optim #optimizers\n",
    "import torch.nn.functional as F #functions like ReLu Sig Tanh etc\n",
    "from torch.utils.data import DataLoader #help us with datasets\n",
    "import torchvision\n",
    "import torchvision.datasets as datasets #using to access std data\n",
    "import torchvision.transforms as transforms #transformations\n",
    "\n",
    "from tqdm import tqdm"
   ]
  },
  {
   "cell_type": "code",
   "execution_count": 2,
   "metadata": {},
   "outputs": [
    {
     "name": "stdout",
     "output_type": "stream",
     "text": [
      "cuda is being used\n"
     ]
    }
   ],
   "source": [
    "device = torch.device('cuda' if torch.cuda.is_available() else 'cpu')\n",
    "print(str(device) + \" is being used\")"
   ]
  },
  {
   "cell_type": "markdown",
   "metadata": {},
   "source": [
    "### Network Definitions"
   ]
  },
  {
   "cell_type": "markdown",
   "metadata": {},
   "source": [
    "Below we will import a VGG16 Model"
   ]
  },
  {
   "cell_type": "code",
   "execution_count": 3,
   "metadata": {},
   "outputs": [],
   "source": [
    "# Hyperparameters\n",
    "input_size = 784\n",
    "in_channels = 3\n",
    "num_classes = 10\n",
    "learning_rate = 0.001\n",
    "batch_size = 64\n",
    "num_epochs = 20"
   ]
  },
  {
   "cell_type": "code",
   "execution_count": 4,
   "metadata": {},
   "outputs": [],
   "source": [
    "#creating an identity class that lets an input flow as is\n",
    "class Identity(nn.Module):\n",
    "    def __init__(self):\n",
    "        super(Identity,self).__init__()\n",
    "    \n",
    "    def forward(self, x):\n",
    "        return x"
   ]
  },
  {
   "cell_type": "code",
   "execution_count": 5,
   "metadata": {},
   "outputs": [],
   "source": [
    "# Load the model, pretrained\n",
    "model = torchvision.models.vgg16(pretrained=True)"
   ]
  },
  {
   "cell_type": "code",
   "execution_count": 6,
   "metadata": {},
   "outputs": [],
   "source": [
    "#we need to make it so that earlier layers dont get trained\n",
    "# then we dont train initial layers and only train last layers\n",
    "# new layers we add will be trainable\n",
    "for param in model.parameters():\n",
    "    param.requires_grad = False\n",
    "\n",
    "# We need to erase the average pooling\n",
    "# classifier must be 10 features\n",
    "\n",
    "model.avgpool = Identity()"
   ]
  },
  {
   "cell_type": "code",
   "execution_count": 7,
   "metadata": {},
   "outputs": [],
   "source": [
    "#model.classifier = nn.Linear(512, 10)\n",
    "#maybe we can use sequential: (multiple layers can be added in sequence)\n",
    "model.classifier = nn.Sequential(nn.Linear(512, 100),\n",
    "                                 nn.Dropout(0.30),\n",
    "                                 nn.Linear(100, 10))"
   ]
  },
  {
   "cell_type": "code",
   "execution_count": 8,
   "metadata": {},
   "outputs": [],
   "source": [
    "#init the model\n",
    "model.to(device)\n",
    "criterion = nn.CrossEntropyLoss()\n",
    "optimizer = optim.Adam(model.parameters(),lr = learning_rate)"
   ]
  },
  {
   "cell_type": "markdown",
   "metadata": {},
   "source": [
    "### Model Training & Evaluation"
   ]
  },
  {
   "cell_type": "code",
   "execution_count": 9,
   "metadata": {},
   "outputs": [
    {
     "name": "stdout",
     "output_type": "stream",
     "text": [
      "Files already downloaded and verified\n",
      "Files already downloaded and verified\n"
     ]
    }
   ],
   "source": [
    "# Loading Test Data\n",
    "root_dirpath = '/media/ishaanaditya/2CCA1EC4CA1E8A6A/Datasets/'\n",
    "\n",
    "test_dataset = datasets.CIFAR10(root=root_dirpath, train=False,  transform = transforms.ToTensor(), download = True)\n",
    "test_loader = DataLoader(dataset = test_dataset, batch_size = batch_size, shuffle = True)\n",
    "\n",
    "# Loading Data\n",
    "train_dataset = datasets.CIFAR10(root=root_dirpath,train=True, transform = transforms.ToTensor(), download = True)\n",
    "train_loader = DataLoader(dataset = train_dataset,batch_size = batch_size,shuffle = True)"
   ]
  },
  {
   "cell_type": "code",
   "execution_count": 10,
   "metadata": {},
   "outputs": [
    {
     "name": "stderr",
     "output_type": "stream",
     "text": [
      "                                                                            "
     ]
    },
    {
     "name": "stdout",
     "output_type": "stream",
     "text": [
      "CPU times: user 5min 39s, sys: 4.72 s, total: 5min 44s\n",
      "Wall time: 5min 31s\n"
     ]
    },
    {
     "name": "stderr",
     "output_type": "stream",
     "text": [
      "\r"
     ]
    }
   ],
   "source": [
    "%%time\n",
    "# training loop\n",
    "for epoch in range(num_epochs):\n",
    "    \n",
    "    #start of progress bar loop\n",
    "    loop = tqdm(enumerate(train_loader), leave = False, total = len(train_loader))\n",
    "    #tqdm leave param makes in one progress bar\n",
    "    \n",
    "    for batch_idx,(data, targets) in loop:\n",
    "        # data to devices\n",
    "        data = data.to(device)\n",
    "        targets = targets.to(device)\n",
    "        #data = data.reshape(data.shape[0],-1)#flattens\n",
    "        # this is flatten because cnn accepts\n",
    "        #fwd\n",
    "        scores = model(data)\n",
    "        loss = criterion(scores, targets)\n",
    "        \n",
    "        #back\n",
    "        optimizer.zero_grad() #so that it does not store prev backprop calc\n",
    "        loss.backward()\n",
    "    \n",
    "        #gradient desc\n",
    "        optimizer.step()\n",
    "        \n",
    "        loop.set_description(f\"Epoch [{epoch}/{num_epochs}]\")\n",
    "        loop.set_postfix(loss = loss.item())"
   ]
  },
  {
   "cell_type": "markdown",
   "metadata": {},
   "source": [
    "### Accuracy Evaluation"
   ]
  },
  {
   "cell_type": "code",
   "execution_count": null,
   "metadata": {},
   "outputs": [],
   "source": [
    "# Checking Performance\n",
    "from helper_script import check_accuracy_CNN\n",
    "check_accuracy_CNN(train_loader,model)\n",
    "check_accuracy_CNN(test_loader,model)"
   ]
  },
  {
   "cell_type": "code",
   "execution_count": null,
   "metadata": {},
   "outputs": [],
   "source": []
  }
 ],
 "metadata": {
  "kernelspec": {
   "display_name": "Python [conda env:torch-gpu]",
   "language": "python",
   "name": "conda-env-torch-gpu-py"
  },
  "language_info": {
   "codemirror_mode": {
    "name": "ipython",
    "version": 3
   },
   "file_extension": ".py",
   "mimetype": "text/x-python",
   "name": "python",
   "nbconvert_exporter": "python",
   "pygments_lexer": "ipython3",
   "version": "3.8.5"
  }
 },
 "nbformat": 4,
 "nbformat_minor": 4
}
