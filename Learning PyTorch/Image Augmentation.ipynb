{
 "cells": [
  {
   "cell_type": "markdown",
   "metadata": {
    "Collapsed": "false"
   },
   "source": [
    "## Introduction\n",
    "We will here have a look at image augmentations in PyTorch\n"
   ]
  },
  {
   "cell_type": "code",
   "execution_count": 1,
   "metadata": {
    "Collapsed": "false"
   },
   "outputs": [],
   "source": [
    "import torch\n",
    "import torchvision.transforms as transforms\n",
    "from torchvision.utils import save_image\n",
    "from customDataset import CatsAndDogsDataset"
   ]
  },
  {
   "cell_type": "code",
   "execution_count": 23,
   "metadata": {
    "Collapsed": "false"
   },
   "outputs": [],
   "source": [
    "#hyperparams\n",
    "in_channel = 3\n",
    "num_classes = 2\n",
    "learning_rate = 1e-3\n",
    "image_size = 224\n",
    "batch_size = 32\n",
    "num_epochs = 1"
   ]
  },
  {
   "cell_type": "markdown",
   "metadata": {
    "Collapsed": "false"
   },
   "source": [
    "Now we will init the transformers:  \n",
    "These transformers are listed below as:\n",
    "* ToTensor() converts whatever format PIL, numpy to Tensor\n",
    "* ToPILImage() converts to PIL format, for other operations\n",
    "* RandomHorizontalFlip(p=0.5) flips the image horizontally randomly with p probability\n",
    "* "
   ]
  },
  {
   "cell_type": "code",
   "execution_count": 58,
   "metadata": {
    "Collapsed": "false"
   },
   "outputs": [],
   "source": [
    "my_transforms = transforms.Compose([\n",
    "    transforms.ColorJitter(brightness=0.05,hue=0.002),\n",
    "    transforms.RandomResizedCrop(image_size, scale=(0.08, 1.0), \n",
    "                                 ratio=(0.75, 1.33333), interpolation=2),\n",
    "    transforms.RandomGrayscale(p=0.1),\n",
    "    transforms.RandomRotation(10, resample=False, \n",
    "                              expand=False, center=None, fill=None),\n",
    "    transforms.RandomHorizontalFlip(p=0.2),\n",
    "    transforms.RandomPerspective(distortion_scale=0.3, \n",
    "                                 p=0.2, interpolation=3, fill=0),\n",
    "    transforms.Resize(image_size),\n",
    "    transforms.ToTensor()\n",
    "])\n",
    "\n",
    "dataset = CatsAndDogsDataset(csv_file = 'D:/Datasets/dogs-vs-cats/test_image_aug/dogs-vs-cats-aug-test.csv',\n",
    "                            root_dir = 'D:/Datasets/dogs-vs-cats/test_image_aug/',\n",
    "                            transform = my_transforms)\n",
    "#contains cat 0 and cat 1"
   ]
  },
  {
   "cell_type": "code",
   "execution_count": 59,
   "metadata": {
    "Collapsed": "false"
   },
   "outputs": [],
   "source": [
    "img_num = 0\n",
    "for _ in range(10):\n",
    "    for img, label in dataset:\n",
    "        #tx_label = 'cat' if label == 0 else 'dog'\n",
    "        #print(img.shape)\n",
    "        save_image(img, './images_aug/img'+str(img_num)+\".png\")\n",
    "        img_num+=1"
   ]
  },
  {
   "cell_type": "code",
   "execution_count": null,
   "metadata": {
    "Collapsed": "false"
   },
   "outputs": [],
   "source": []
  },
  {
   "cell_type": "code",
   "execution_count": null,
   "metadata": {},
   "outputs": [],
   "source": []
  }
 ],
 "metadata": {
  "kernelspec": {
   "display_name": "Python [conda env:torch-gpu]",
   "language": "python",
   "name": "conda-env-torch-gpu-py"
  },
  "language_info": {
   "codemirror_mode": {
    "name": "ipython",
    "version": 3
   },
   "file_extension": ".py",
   "mimetype": "text/x-python",
   "name": "python",
   "nbconvert_exporter": "python",
   "pygments_lexer": "ipython3",
   "version": "3.8.5"
  }
 },
 "nbformat": 4,
 "nbformat_minor": 4
}
