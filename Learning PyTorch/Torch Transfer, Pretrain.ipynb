{
 "cells": [
  {
   "cell_type": "code",
   "execution_count": 2,
   "metadata": {
    "Collapsed": "false"
   },
   "outputs": [],
   "source": [
    "import torch #main torch module\n",
    "import torch.nn as nn #neural net module\n",
    "import torch.optim as optim #optimizers\n",
    "import torch.nn.functional as F #functions like ReLu Sig Tanh etc\n",
    "from torch.utils.data import DataLoader #help us with datasets\n",
    "import torchvision\n",
    "import torchvision.datasets as datasets #using to access std data\n",
    "import torchvision.transforms as transforms #transformations"
   ]
  },
  {
   "cell_type": "code",
   "execution_count": 3,
   "metadata": {
    "Collapsed": "false",
    "jupyter": {
     "source_hidden": true
    }
   },
   "outputs": [],
   "source": [
    "def epoch_accuracy(loader,model):\n",
    "    #either train or test accuracy\n",
    "    num_correct = 0\n",
    "    num_samples = 0\n",
    "    model.eval() #set to evaluation mode\n",
    "    with torch.no_grad():\n",
    "        #only have to check accuracy, dont compute grads\n",
    "        for x,y in loader:\n",
    "            x = x.to(device)\n",
    "            y = y.to(device)\n",
    "            #x = x.reshape(x.shape[0],-1)\n",
    "            scores = model(x)\n",
    "            _, predictions = scores.max(1)\n",
    "            num_correct += (predictions == y).sum()\n",
    "            num_samples += predictions.size(0)\n",
    "    accuracy = float(num_correct)/float(num_samples)\n",
    "    model.train()\n",
    "    return accuracy \n",
    "\n",
    "def save_checkpoint(state, filename=\"./checkpoints/my_checkpoint.pth.tar\"):\n",
    "    print(\"Saving Checkpoint ==>\")\n",
    "    torch.save(state, filename)\n",
    "    \n",
    "def load_checkpoint(checkpoint):\n",
    "    print(\"Loading Checkpoint ==>\")\n",
    "    model.load_state_dict(checkpoint['state_dict'])\n",
    "    optimizer.load_state_dict(checkpoint['optimizer'])"
   ]
  },
  {
   "cell_type": "markdown",
   "metadata": {
    "Collapsed": "false"
   },
   "source": [
    "### Network Definitions"
   ]
  },
  {
   "cell_type": "markdown",
   "metadata": {
    "Collapsed": "false"
   },
   "source": [
    "Below we will import a VGG16 Model"
   ]
  },
  {
   "cell_type": "code",
   "execution_count": 4,
   "metadata": {
    "Collapsed": "false"
   },
   "outputs": [
    {
     "name": "stderr",
     "output_type": "stream",
     "text": [
      "Downloading: \"https://download.pytorch.org/models/vgg16-397923af.pth\" to C:\\Users\\ishaa/.cache\\torch\\hub\\checkpoints\\vgg16-397923af.pth\n",
      "100.0%\n"
     ]
    }
   ],
   "source": [
    "model = torchvision.models.vgg16(pretrained=True)"
   ]
  },
  {
   "cell_type": "code",
   "execution_count": 7,
   "metadata": {
    "Collapsed": "false"
   },
   "outputs": [],
   "source": [
    "# Hyperparameters\n",
    "input_size = 784\n",
    "num_classes = 10\n",
    "learning_rate = 0.001\n",
    "batch_size = 64\n",
    "num_epochs = 20\n",
    "load_model = False"
   ]
  },
  {
   "cell_type": "code",
   "execution_count": null,
   "metadata": {
    "Collapsed": "false"
   },
   "outputs": [],
   "source": []
  },
  {
   "cell_type": "markdown",
   "metadata": {
    "Collapsed": "false"
   },
   "source": [
    "### Model Training & Eval."
   ]
  },
  {
   "cell_type": "code",
   "execution_count": 5,
   "metadata": {
    "Collapsed": "false"
   },
   "outputs": [],
   "source": [
    "# Set Device\n",
    "device = torch.device('cuda' if torch.cuda.is_available() else 'cpu')"
   ]
  },
  {
   "cell_type": "code",
   "execution_count": 8,
   "metadata": {
    "Collapsed": "false"
   },
   "outputs": [],
   "source": [
    "# Loading Test Data\n",
    "test_dataset = datasets.MNIST(root='dataset/', train=False,  transform = transforms.ToTensor(), download = True)\n",
    "test_loader = DataLoader(dataset = test_dataset, batch_size = batch_size, shuffle = True)\n",
    "\n",
    "# Loading Data\n",
    "train_dataset = datasets.MNIST(root='dataset/',train=True, transform = transforms.ToTensor(), download = True)\n",
    "train_loader = DataLoader(dataset = train_dataset,batch_size = batch_size,shuffle = True)"
   ]
  },
  {
   "cell_type": "code",
   "execution_count": 10,
   "metadata": {
    "Collapsed": "false"
   },
   "outputs": [],
   "source": [
    "#init the network\n",
    "model = CNN(in_channels = 1,num_classes=10).to(device)\n",
    "criterion = nn.CrossEntropyLoss()\n",
    "optimizer = optim.Adam(model.parameters(),\n",
    "                      lr = learning_rate)"
   ]
  },
  {
   "cell_type": "code",
   "execution_count": null,
   "metadata": {
    "Collapsed": "false"
   },
   "outputs": [],
   "source": [
    "if load_model:\n",
    "    load_checkpoint(torch.load(\"./checkpoints/my_checkpoint.pth.tar\"))"
   ]
  },
  {
   "cell_type": "code",
   "execution_count": 12,
   "metadata": {
    "Collapsed": "false"
   },
   "outputs": [
    {
     "name": "stdout",
     "output_type": "stream",
     "text": [
      "epoch 1/20 : \tSaving Checkpoint ==>\n",
      "Training Accuracy: 0.965\tValidation Accuracy: 0.967\n",
      "epoch 2/20 : \tTraining Accuracy: 0.979\tValidation Accuracy: 0.977\n",
      "epoch 3/20 : \tTraining Accuracy: 0.980\tValidation Accuracy: 0.978\n",
      "epoch 4/20 : \tSaving Checkpoint ==>\n",
      "Training Accuracy: 0.984\tValidation Accuracy: 0.983\n",
      "epoch 5/20 : \tTraining Accuracy: 0.988\tValidation Accuracy: 0.985\n",
      "epoch 6/20 : \tTraining Accuracy: 0.982\tValidation Accuracy: 0.981\n",
      "epoch 7/20 : \tSaving Checkpoint ==>\n",
      "Training Accuracy: 0.989\tValidation Accuracy: 0.984\n",
      "epoch 8/20 : \tTraining Accuracy: 0.989\tValidation Accuracy: 0.984\n",
      "epoch 9/20 : \tTraining Accuracy: 0.990\tValidation Accuracy: 0.986\n",
      "epoch 10/20 : \tSaving Checkpoint ==>\n",
      "Training Accuracy: 0.991\tValidation Accuracy: 0.986\n",
      "epoch 11/20 : \tTraining Accuracy: 0.993\tValidation Accuracy: 0.986\n",
      "epoch 12/20 : \tTraining Accuracy: 0.993\tValidation Accuracy: 0.987\n",
      "epoch 13/20 : \tSaving Checkpoint ==>\n",
      "Training Accuracy: 0.994\tValidation Accuracy: 0.987\n",
      "epoch 14/20 : \tTraining Accuracy: 0.994\tValidation Accuracy: 0.987\n",
      "epoch 15/20 : \tTraining Accuracy: 0.995\tValidation Accuracy: 0.987\n",
      "epoch 16/20 : \tSaving Checkpoint ==>\n",
      "Training Accuracy: 0.996\tValidation Accuracy: 0.988\n",
      "epoch 17/20 : \tTraining Accuracy: 0.993\tValidation Accuracy: 0.985\n",
      "epoch 18/20 : \tTraining Accuracy: 0.995\tValidation Accuracy: 0.988\n",
      "epoch 19/20 : \tSaving Checkpoint ==>\n",
      "Training Accuracy: 0.994\tValidation Accuracy: 0.986\n",
      "epoch 20/20 : \tTraining Accuracy: 0.995\tValidation Accuracy: 0.987\n",
      "Wall time: 4min 42s\n"
     ]
    }
   ],
   "source": [
    "%%time\n",
    "# training loop\n",
    "train_accs = []\n",
    "test_accs = []\n",
    "for epoch in range(num_epochs):\n",
    "    \n",
    "    if epoch % 3 == 0:\n",
    "        checkpoint = {'state_dict': model.state_dict(),\n",
    "                  'optimizer' : optimizer.state_dict()}\n",
    "        save_checkpoint(checkpoint)\n",
    "        \n",
    "        \n",
    "    print(f\"epoch {epoch+1}/{num_epochs} : \",end='\\t')\n",
    "    \n",
    "    for batch_idx,(data, targets) in enumerate(train_loader):\n",
    "        # data to devices\n",
    "        data = data.to(device)\n",
    "        targets = targets.to(device)\n",
    "        #data = data.reshape(data.shape[0],-1)#flattens\n",
    "        # this is flatten because cnn accepts\n",
    "        #fwd\n",
    "        scores = model(data)\n",
    "        loss = criterion(scores, targets)\n",
    "        \n",
    "        #back\n",
    "        optimizer.zero_grad() #so that it does not store prev backprop calc\n",
    "        loss.backward()\n",
    "    \n",
    "        #gradient desc\n",
    "        optimizer.step()\n",
    "    \n",
    "    train_acc = epoch_accuracy(train_loader, model)\n",
    "    test_acc = epoch_accuracy(test_loader, model)\n",
    "    \n",
    "    train_accs.append(train_acc)\n",
    "    test_accs.append(test_acc)\n",
    "    \n",
    "    print(f\"Training Accuracy:{train_acc: .3f}\",end='\\t')\n",
    "    print(f\"Validation Accuracy:{test_acc: .3f}\")"
   ]
  },
  {
   "cell_type": "markdown",
   "metadata": {
    "Collapsed": "true"
   },
   "source": [
    "### Training Characteristics"
   ]
  },
  {
   "cell_type": "code",
   "execution_count": 13,
   "metadata": {
    "Collapsed": "false"
   },
   "outputs": [],
   "source": [
    "#!pip install seaborn"
   ]
  },
  {
   "cell_type": "code",
   "execution_count": 14,
   "metadata": {
    "Collapsed": "false"
   },
   "outputs": [],
   "source": [
    "import matplotlib.pyplot as plt\n",
    "import seaborn as sns"
   ]
  },
  {
   "cell_type": "code",
   "execution_count": 15,
   "metadata": {
    "Collapsed": "false"
   },
   "outputs": [
    {
     "data": {
      "image/png": "[encoded data removed]",
      "text/plain": [
       "<Figure size 720x360 with 1 Axes>"
      ]
     },
     "metadata": {
      "needs_background": "light"
     },
     "output_type": "display_data"
    }
   ],
   "source": [
    "plt.figure(figsize=(10,5));\n",
    "sns.lineplot(x = range(num_epochs), y = train_accs, label='Training Accuracy');\n",
    "sns.lineplot(x = range(num_epochs), y = test_accs, label='Testing Accuracy');"
   ]
  },
  {
   "cell_type": "code",
   "execution_count": null,
   "metadata": {
    "Collapsed": "false"
   },
   "outputs": [],
   "source": []
  }
 ],
 "metadata": {
  "kernelspec": {
   "display_name": "Python [conda env:torch-gpu]",
   "language": "python",
   "name": "conda-env-torch-gpu-py"
  },
  "language_info": {
   "codemirror_mode": {
    "name": "ipython",
    "version": 3
   },
   "file_extension": ".py",
   "mimetype": "text/x-python",
   "name": "python",
   "nbconvert_exporter": "python",
   "pygments_lexer": "ipython3",
   "version": "3.8.5"
  }
 },
 "nbformat": 4,
 "nbformat_minor": 4
}
